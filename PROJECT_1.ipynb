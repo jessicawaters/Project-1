{
  "nbformat": 4,
  "nbformat_minor": 0,
  "metadata": {
    "colab": {
      "provenance": [],
      "authorship_tag": "ABX9TyNmAieZ5iamqdPYgtFTqGs8",
      "include_colab_link": true
    },
    "kernelspec": {
      "name": "python3",
      "display_name": "Python 3"
    },
    "language_info": {
      "name": "python"
    }
  },
  "cells": [
    {
      "cell_type": "markdown",
      "metadata": {
        "id": "view-in-github",
        "colab_type": "text"
      },
      "source": [
        "<a href=\"https://colab.research.google.com/github/jessicawaters/Project-1/blob/main/PROJECT_1.ipynb\" target=\"_parent\"><img src=\"https://colab.research.google.com/assets/colab-badge.svg\" alt=\"Open In Colab\"/></a>"
      ]
    },
    {
      "cell_type": "markdown",
      "source": [
        "# Project 1:\n",
        "\n",
        "# Analysis of Spongebob Episodes: Viewership and Characteristics"
      ],
      "metadata": {
        "id": "Xt3TyYtqeSVM"
      }
    },
    {
      "cell_type": "markdown",
      "source": [
        "## Objective and Data Overview"
      ],
      "metadata": {
        "id": "WRTnFAgzFVq8"
      }
    },
    {
      "cell_type": "markdown",
      "source": [
        "To explore factors that influence viewership and understand how characteristics like guest appearances and episode length relate to audience numbers.\n",
        "\n",
        "The project uses a dataset of SpongeBob episodes with columns like 'Airdate,' 'U.S. viewers (millions),' 'Sister episode count,' 'Running time,' 'Guest(s),' and 'animation.' These columns are mainly analyzed for relationships to viewership metrics."
      ],
      "metadata": {
        "id": "G7kA5GXjFZBL"
      }
    },
    {
      "cell_type": "markdown",
      "source": [
        "## Import Libraries and Load Text"
      ],
      "metadata": {
        "id": "doJRyGR5m7kF"
      }
    },
    {
      "cell_type": "code",
      "execution_count": 2,
      "metadata": {
        "id": "swd6R1FzeO1_"
      },
      "outputs": [],
      "source": [
        "import pandas as pd\n",
        "import numpy as np\n",
        "import seaborn as sns\n",
        "import matplotlib.pyplot as plt"
      ]
    },
    {
      "cell_type": "code",
      "source": [
        "df = pd.read_csv(\"https://github.com/jessicawaters/Project-1/raw/refs/heads/main/spongebob_episodes.csv\")"
      ],
      "metadata": {
        "id": "zbHO0sore-Hb"
      },
      "execution_count": 3,
      "outputs": []
    },
    {
      "cell_type": "code",
      "source": [
        "df.shape"
      ],
      "metadata": {
        "colab": {
          "base_uri": "https://localhost:8080/",
          "height": 0
        },
        "id": "Os3LQABmk6fY",
        "outputId": "1f173795-6777-4bf6-ba7a-6eb791250e4a"
      },
      "execution_count": 4,
      "outputs": [
        {
          "output_type": "execute_result",
          "data": {
            "text/plain": [
              "(583, 25)"
            ]
          },
          "metadata": {},
          "execution_count": 4
        }
      ]
    },
    {
      "cell_type": "code",
      "source": [
        "df.head()"
      ],
      "metadata": {
        "colab": {
          "base_uri": "https://localhost:8080/",
          "height": 689
        },
        "id": "13fgM6mCfaAu",
        "outputId": "a7623e4a-7000-4f85-beb1-6a8155b0f6ba"
      },
      "execution_count": 5,
      "outputs": [
        {
          "output_type": "execute_result",
          "data": {
            "text/plain": [
              "         Airdate                                   Animation  \\\n",
              "0      1997/1998                                  Alan Smart   \n",
              "1    May 1, 1999  ['Fred Miller', 'Tom Yasumi (uncredited)']   \n",
              "2    May 1, 1999                                  Tom Yasumi   \n",
              "3  July 17, 1999                                  Tom Yasumi   \n",
              "4  July 17, 1999                            Edgar Larrazábal   \n",
              "\n",
              "  Animation Supervisor                                  Copyright year  \\\n",
              "0                  NaN  ['1997 (1997 version)', '1999 (1999 version)']   \n",
              "1                  NaN                                            1999   \n",
              "2                  NaN                                            1999   \n",
              "3                  NaN                                            1999   \n",
              "4                  NaN                                            1999   \n",
              "\n",
              "                    Creative Episode №                         Guest(s)  \\\n",
              "0  Derek Drymon (uncredited)        1a                              NaN   \n",
              "1  Derek Drymon (uncredited)        1b                              NaN   \n",
              "2               Derek Drymon        1c                              NaN   \n",
              "3               Derek Drymon        2a                              NaN   \n",
              "4               Derek Drymon        2b  Jay Lender as Chef (uncredited)   \n",
              "\n",
              "  Line Producer Main                   Next  ...                 Storyboard  \\\n",
              "0           NaN  NaN          \"Reef Blower\"  ...         Stephen Hillenburg   \n",
              "1           NaN  NaN  \"Tea at the Treedome\"  ...  Paul Tibbitt (uncredited)   \n",
              "2           NaN  NaN          \"Bubblestand\"  ...               Paul Tibbitt   \n",
              "3           NaN  NaN         \"Ripped Pants\"  ...             Ennio Torresan   \n",
              "4           NaN  NaN         \"Jellyfishing\"  ...               Paul Tibbitt   \n",
              "\n",
              "      Storyboard Artist(s) Supervising  Supervising Producer(s) Technical  \\\n",
              "0             Derek Drymon         NaN                      NaN       NaN   \n",
              "1  Jay Lender (uncredited)         NaN                      NaN       NaN   \n",
              "2              Mark O'Hare         NaN                      NaN       NaN   \n",
              "3               Erik Wiese         NaN                      NaN       NaN   \n",
              "4              Mark O'Hare         NaN                      NaN       NaN   \n",
              "\n",
              "  U.S. premiere time (ET) U.S. viewers (millions)  \\\n",
              "0                 9:30 pm                    2.96   \n",
              "1                 9:38 pm                    2.96   \n",
              "2                 9:45 pm                    2.96   \n",
              "3                10:00 am                    2.51   \n",
              "4                10:15 am                    2.51   \n",
              "\n",
              "                                           Writer(s)  \\\n",
              "0  ['Stephen Hillenburg', 'Derek Drymon', 'Tim Hi...   \n",
              "1  ['Stephen Hillenburg', 'Derek Drymon', 'Tim Hi...   \n",
              "2   ['Peter Burns', 'Doug Lawrence', 'Paul Tibbitt']   \n",
              "3  ['Ennio Torresan', 'Erik Wiese', 'Stephen Hill...   \n",
              "4                    ['Paul Tibbitt', 'Peter Burns']   \n",
              "\n",
              "                                          characters                title  \n",
              "0  French Narrator, Sea urchins, SpongeBob Square...          Help Wanted  \n",
              "1  SpongeBob SquarePants, Squidward Tentacles, Re...          Reef Blower  \n",
              "2  SpongeBob SquarePants, Jellyfish, Lavender jel...  Tea at the Treedome  \n",
              "3  SpongeBob SquarePants, Scallop, Squidward Tent...          Bubblestand  \n",
              "4  French Narrator, SpongeBob SquarePants, Sponge...         Ripped Pants  \n",
              "\n",
              "[5 rows x 25 columns]"
            ],
            "text/html": [
              "\n",
              "  <div id=\"df-860f11fd-5a2c-49fa-b237-f4c0f9520094\" class=\"colab-df-container\">\n",
              "    <div>\n",
              "<style scoped>\n",
              "    .dataframe tbody tr th:only-of-type {\n",
              "        vertical-align: middle;\n",
              "    }\n",
              "\n",
              "    .dataframe tbody tr th {\n",
              "        vertical-align: top;\n",
              "    }\n",
              "\n",
              "    .dataframe thead th {\n",
              "        text-align: right;\n",
              "    }\n",
              "</style>\n",
              "<table border=\"1\" class=\"dataframe\">\n",
              "  <thead>\n",
              "    <tr style=\"text-align: right;\">\n",
              "      <th></th>\n",
              "      <th>Airdate</th>\n",
              "      <th>Animation</th>\n",
              "      <th>Animation Supervisor</th>\n",
              "      <th>Copyright year</th>\n",
              "      <th>Creative</th>\n",
              "      <th>Episode №</th>\n",
              "      <th>Guest(s)</th>\n",
              "      <th>Line Producer</th>\n",
              "      <th>Main</th>\n",
              "      <th>Next</th>\n",
              "      <th>...</th>\n",
              "      <th>Storyboard</th>\n",
              "      <th>Storyboard Artist(s)</th>\n",
              "      <th>Supervising</th>\n",
              "      <th>Supervising Producer(s)</th>\n",
              "      <th>Technical</th>\n",
              "      <th>U.S. premiere time (ET)</th>\n",
              "      <th>U.S. viewers (millions)</th>\n",
              "      <th>Writer(s)</th>\n",
              "      <th>characters</th>\n",
              "      <th>title</th>\n",
              "    </tr>\n",
              "  </thead>\n",
              "  <tbody>\n",
              "    <tr>\n",
              "      <th>0</th>\n",
              "      <td>1997/1998</td>\n",
              "      <td>Alan Smart</td>\n",
              "      <td>NaN</td>\n",
              "      <td>['1997 (1997 version)', '1999 (1999 version)']</td>\n",
              "      <td>Derek Drymon (uncredited)</td>\n",
              "      <td>1a</td>\n",
              "      <td>NaN</td>\n",
              "      <td>NaN</td>\n",
              "      <td>NaN</td>\n",
              "      <td>\"Reef Blower\"</td>\n",
              "      <td>...</td>\n",
              "      <td>Stephen Hillenburg</td>\n",
              "      <td>Derek Drymon</td>\n",
              "      <td>NaN</td>\n",
              "      <td>NaN</td>\n",
              "      <td>NaN</td>\n",
              "      <td>9:30 pm</td>\n",
              "      <td>2.96</td>\n",
              "      <td>['Stephen Hillenburg', 'Derek Drymon', 'Tim Hi...</td>\n",
              "      <td>French Narrator, Sea urchins, SpongeBob Square...</td>\n",
              "      <td>Help Wanted</td>\n",
              "    </tr>\n",
              "    <tr>\n",
              "      <th>1</th>\n",
              "      <td>May 1, 1999</td>\n",
              "      <td>['Fred Miller', 'Tom Yasumi (uncredited)']</td>\n",
              "      <td>NaN</td>\n",
              "      <td>1999</td>\n",
              "      <td>Derek Drymon (uncredited)</td>\n",
              "      <td>1b</td>\n",
              "      <td>NaN</td>\n",
              "      <td>NaN</td>\n",
              "      <td>NaN</td>\n",
              "      <td>\"Tea at the Treedome\"</td>\n",
              "      <td>...</td>\n",
              "      <td>Paul Tibbitt (uncredited)</td>\n",
              "      <td>Jay Lender (uncredited)</td>\n",
              "      <td>NaN</td>\n",
              "      <td>NaN</td>\n",
              "      <td>NaN</td>\n",
              "      <td>9:38 pm</td>\n",
              "      <td>2.96</td>\n",
              "      <td>['Stephen Hillenburg', 'Derek Drymon', 'Tim Hi...</td>\n",
              "      <td>SpongeBob SquarePants, Squidward Tentacles, Re...</td>\n",
              "      <td>Reef Blower</td>\n",
              "    </tr>\n",
              "    <tr>\n",
              "      <th>2</th>\n",
              "      <td>May 1, 1999</td>\n",
              "      <td>Tom Yasumi</td>\n",
              "      <td>NaN</td>\n",
              "      <td>1999</td>\n",
              "      <td>Derek Drymon</td>\n",
              "      <td>1c</td>\n",
              "      <td>NaN</td>\n",
              "      <td>NaN</td>\n",
              "      <td>NaN</td>\n",
              "      <td>\"Bubblestand\"</td>\n",
              "      <td>...</td>\n",
              "      <td>Paul Tibbitt</td>\n",
              "      <td>Mark O'Hare</td>\n",
              "      <td>NaN</td>\n",
              "      <td>NaN</td>\n",
              "      <td>NaN</td>\n",
              "      <td>9:45 pm</td>\n",
              "      <td>2.96</td>\n",
              "      <td>['Peter Burns', 'Doug Lawrence', 'Paul Tibbitt']</td>\n",
              "      <td>SpongeBob SquarePants, Jellyfish, Lavender jel...</td>\n",
              "      <td>Tea at the Treedome</td>\n",
              "    </tr>\n",
              "    <tr>\n",
              "      <th>3</th>\n",
              "      <td>July 17, 1999</td>\n",
              "      <td>Tom Yasumi</td>\n",
              "      <td>NaN</td>\n",
              "      <td>1999</td>\n",
              "      <td>Derek Drymon</td>\n",
              "      <td>2a</td>\n",
              "      <td>NaN</td>\n",
              "      <td>NaN</td>\n",
              "      <td>NaN</td>\n",
              "      <td>\"Ripped Pants\"</td>\n",
              "      <td>...</td>\n",
              "      <td>Ennio Torresan</td>\n",
              "      <td>Erik Wiese</td>\n",
              "      <td>NaN</td>\n",
              "      <td>NaN</td>\n",
              "      <td>NaN</td>\n",
              "      <td>10:00 am</td>\n",
              "      <td>2.51</td>\n",
              "      <td>['Ennio Torresan', 'Erik Wiese', 'Stephen Hill...</td>\n",
              "      <td>SpongeBob SquarePants, Scallop, Squidward Tent...</td>\n",
              "      <td>Bubblestand</td>\n",
              "    </tr>\n",
              "    <tr>\n",
              "      <th>4</th>\n",
              "      <td>July 17, 1999</td>\n",
              "      <td>Edgar Larrazábal</td>\n",
              "      <td>NaN</td>\n",
              "      <td>1999</td>\n",
              "      <td>Derek Drymon</td>\n",
              "      <td>2b</td>\n",
              "      <td>Jay Lender as Chef (uncredited)</td>\n",
              "      <td>NaN</td>\n",
              "      <td>NaN</td>\n",
              "      <td>\"Jellyfishing\"</td>\n",
              "      <td>...</td>\n",
              "      <td>Paul Tibbitt</td>\n",
              "      <td>Mark O'Hare</td>\n",
              "      <td>NaN</td>\n",
              "      <td>NaN</td>\n",
              "      <td>NaN</td>\n",
              "      <td>10:15 am</td>\n",
              "      <td>2.51</td>\n",
              "      <td>['Paul Tibbitt', 'Peter Burns']</td>\n",
              "      <td>French Narrator, SpongeBob SquarePants, Sponge...</td>\n",
              "      <td>Ripped Pants</td>\n",
              "    </tr>\n",
              "  </tbody>\n",
              "</table>\n",
              "<p>5 rows × 25 columns</p>\n",
              "</div>\n",
              "    <div class=\"colab-df-buttons\">\n",
              "\n",
              "  <div class=\"colab-df-container\">\n",
              "    <button class=\"colab-df-convert\" onclick=\"convertToInteractive('df-860f11fd-5a2c-49fa-b237-f4c0f9520094')\"\n",
              "            title=\"Convert this dataframe to an interactive table.\"\n",
              "            style=\"display:none;\">\n",
              "\n",
              "  <svg xmlns=\"http://www.w3.org/2000/svg\" height=\"24px\" viewBox=\"0 -960 960 960\">\n",
              "    <path d=\"M120-120v-720h720v720H120Zm60-500h600v-160H180v160Zm220 220h160v-160H400v160Zm0 220h160v-160H400v160ZM180-400h160v-160H180v160Zm440 0h160v-160H620v160ZM180-180h160v-160H180v160Zm440 0h160v-160H620v160Z\"/>\n",
              "  </svg>\n",
              "    </button>\n",
              "\n",
              "  <style>\n",
              "    .colab-df-container {\n",
              "      display:flex;\n",
              "      gap: 12px;\n",
              "    }\n",
              "\n",
              "    .colab-df-convert {\n",
              "      background-color: #E8F0FE;\n",
              "      border: none;\n",
              "      border-radius: 50%;\n",
              "      cursor: pointer;\n",
              "      display: none;\n",
              "      fill: #1967D2;\n",
              "      height: 32px;\n",
              "      padding: 0 0 0 0;\n",
              "      width: 32px;\n",
              "    }\n",
              "\n",
              "    .colab-df-convert:hover {\n",
              "      background-color: #E2EBFA;\n",
              "      box-shadow: 0px 1px 2px rgba(60, 64, 67, 0.3), 0px 1px 3px 1px rgba(60, 64, 67, 0.15);\n",
              "      fill: #174EA6;\n",
              "    }\n",
              "\n",
              "    .colab-df-buttons div {\n",
              "      margin-bottom: 4px;\n",
              "    }\n",
              "\n",
              "    [theme=dark] .colab-df-convert {\n",
              "      background-color: #3B4455;\n",
              "      fill: #D2E3FC;\n",
              "    }\n",
              "\n",
              "    [theme=dark] .colab-df-convert:hover {\n",
              "      background-color: #434B5C;\n",
              "      box-shadow: 0px 1px 3px 1px rgba(0, 0, 0, 0.15);\n",
              "      filter: drop-shadow(0px 1px 2px rgba(0, 0, 0, 0.3));\n",
              "      fill: #FFFFFF;\n",
              "    }\n",
              "  </style>\n",
              "\n",
              "    <script>\n",
              "      const buttonEl =\n",
              "        document.querySelector('#df-860f11fd-5a2c-49fa-b237-f4c0f9520094 button.colab-df-convert');\n",
              "      buttonEl.style.display =\n",
              "        google.colab.kernel.accessAllowed ? 'block' : 'none';\n",
              "\n",
              "      async function convertToInteractive(key) {\n",
              "        const element = document.querySelector('#df-860f11fd-5a2c-49fa-b237-f4c0f9520094');\n",
              "        const dataTable =\n",
              "          await google.colab.kernel.invokeFunction('convertToInteractive',\n",
              "                                                    [key], {});\n",
              "        if (!dataTable) return;\n",
              "\n",
              "        const docLinkHtml = 'Like what you see? Visit the ' +\n",
              "          '<a target=\"_blank\" href=https://colab.research.google.com/notebooks/data_table.ipynb>data table notebook</a>'\n",
              "          + ' to learn more about interactive tables.';\n",
              "        element.innerHTML = '';\n",
              "        dataTable['output_type'] = 'display_data';\n",
              "        await google.colab.output.renderOutput(dataTable, element);\n",
              "        const docLink = document.createElement('div');\n",
              "        docLink.innerHTML = docLinkHtml;\n",
              "        element.appendChild(docLink);\n",
              "      }\n",
              "    </script>\n",
              "  </div>\n",
              "\n",
              "\n",
              "<div id=\"df-096446a6-b4dd-46e4-9678-f228d971a29d\">\n",
              "  <button class=\"colab-df-quickchart\" onclick=\"quickchart('df-096446a6-b4dd-46e4-9678-f228d971a29d')\"\n",
              "            title=\"Suggest charts\"\n",
              "            style=\"display:none;\">\n",
              "\n",
              "<svg xmlns=\"http://www.w3.org/2000/svg\" height=\"24px\"viewBox=\"0 0 24 24\"\n",
              "     width=\"24px\">\n",
              "    <g>\n",
              "        <path d=\"M19 3H5c-1.1 0-2 .9-2 2v14c0 1.1.9 2 2 2h14c1.1 0 2-.9 2-2V5c0-1.1-.9-2-2-2zM9 17H7v-7h2v7zm4 0h-2V7h2v10zm4 0h-2v-4h2v4z\"/>\n",
              "    </g>\n",
              "</svg>\n",
              "  </button>\n",
              "\n",
              "<style>\n",
              "  .colab-df-quickchart {\n",
              "      --bg-color: #E8F0FE;\n",
              "      --fill-color: #1967D2;\n",
              "      --hover-bg-color: #E2EBFA;\n",
              "      --hover-fill-color: #174EA6;\n",
              "      --disabled-fill-color: #AAA;\n",
              "      --disabled-bg-color: #DDD;\n",
              "  }\n",
              "\n",
              "  [theme=dark] .colab-df-quickchart {\n",
              "      --bg-color: #3B4455;\n",
              "      --fill-color: #D2E3FC;\n",
              "      --hover-bg-color: #434B5C;\n",
              "      --hover-fill-color: #FFFFFF;\n",
              "      --disabled-bg-color: #3B4455;\n",
              "      --disabled-fill-color: #666;\n",
              "  }\n",
              "\n",
              "  .colab-df-quickchart {\n",
              "    background-color: var(--bg-color);\n",
              "    border: none;\n",
              "    border-radius: 50%;\n",
              "    cursor: pointer;\n",
              "    display: none;\n",
              "    fill: var(--fill-color);\n",
              "    height: 32px;\n",
              "    padding: 0;\n",
              "    width: 32px;\n",
              "  }\n",
              "\n",
              "  .colab-df-quickchart:hover {\n",
              "    background-color: var(--hover-bg-color);\n",
              "    box-shadow: 0 1px 2px rgba(60, 64, 67, 0.3), 0 1px 3px 1px rgba(60, 64, 67, 0.15);\n",
              "    fill: var(--button-hover-fill-color);\n",
              "  }\n",
              "\n",
              "  .colab-df-quickchart-complete:disabled,\n",
              "  .colab-df-quickchart-complete:disabled:hover {\n",
              "    background-color: var(--disabled-bg-color);\n",
              "    fill: var(--disabled-fill-color);\n",
              "    box-shadow: none;\n",
              "  }\n",
              "\n",
              "  .colab-df-spinner {\n",
              "    border: 2px solid var(--fill-color);\n",
              "    border-color: transparent;\n",
              "    border-bottom-color: var(--fill-color);\n",
              "    animation:\n",
              "      spin 1s steps(1) infinite;\n",
              "  }\n",
              "\n",
              "  @keyframes spin {\n",
              "    0% {\n",
              "      border-color: transparent;\n",
              "      border-bottom-color: var(--fill-color);\n",
              "      border-left-color: var(--fill-color);\n",
              "    }\n",
              "    20% {\n",
              "      border-color: transparent;\n",
              "      border-left-color: var(--fill-color);\n",
              "      border-top-color: var(--fill-color);\n",
              "    }\n",
              "    30% {\n",
              "      border-color: transparent;\n",
              "      border-left-color: var(--fill-color);\n",
              "      border-top-color: var(--fill-color);\n",
              "      border-right-color: var(--fill-color);\n",
              "    }\n",
              "    40% {\n",
              "      border-color: transparent;\n",
              "      border-right-color: var(--fill-color);\n",
              "      border-top-color: var(--fill-color);\n",
              "    }\n",
              "    60% {\n",
              "      border-color: transparent;\n",
              "      border-right-color: var(--fill-color);\n",
              "    }\n",
              "    80% {\n",
              "      border-color: transparent;\n",
              "      border-right-color: var(--fill-color);\n",
              "      border-bottom-color: var(--fill-color);\n",
              "    }\n",
              "    90% {\n",
              "      border-color: transparent;\n",
              "      border-bottom-color: var(--fill-color);\n",
              "    }\n",
              "  }\n",
              "</style>\n",
              "\n",
              "  <script>\n",
              "    async function quickchart(key) {\n",
              "      const quickchartButtonEl =\n",
              "        document.querySelector('#' + key + ' button');\n",
              "      quickchartButtonEl.disabled = true;  // To prevent multiple clicks.\n",
              "      quickchartButtonEl.classList.add('colab-df-spinner');\n",
              "      try {\n",
              "        const charts = await google.colab.kernel.invokeFunction(\n",
              "            'suggestCharts', [key], {});\n",
              "      } catch (error) {\n",
              "        console.error('Error during call to suggestCharts:', error);\n",
              "      }\n",
              "      quickchartButtonEl.classList.remove('colab-df-spinner');\n",
              "      quickchartButtonEl.classList.add('colab-df-quickchart-complete');\n",
              "    }\n",
              "    (() => {\n",
              "      let quickchartButtonEl =\n",
              "        document.querySelector('#df-096446a6-b4dd-46e4-9678-f228d971a29d button');\n",
              "      quickchartButtonEl.style.display =\n",
              "        google.colab.kernel.accessAllowed ? 'block' : 'none';\n",
              "    })();\n",
              "  </script>\n",
              "</div>\n",
              "\n",
              "    </div>\n",
              "  </div>\n"
            ],
            "application/vnd.google.colaboratory.intrinsic+json": {
              "type": "dataframe",
              "variable_name": "df"
            }
          },
          "metadata": {},
          "execution_count": 5
        }
      ]
    },
    {
      "cell_type": "markdown",
      "source": [
        "Tweaking the column names"
      ],
      "metadata": {
        "id": "HuuMrFFpjb3l"
      }
    },
    {
      "cell_type": "code",
      "source": [
        "df.columns"
      ],
      "metadata": {
        "colab": {
          "base_uri": "https://localhost:8080/",
          "height": 0
        },
        "id": "5eJS9TgziF6l",
        "outputId": "dff873ef-6acf-4b3b-c179-3ba005139bd1"
      },
      "execution_count": 6,
      "outputs": [
        {
          "output_type": "execute_result",
          "data": {
            "text/plain": [
              "Index(['Airdate', 'Animation', 'Animation Supervisor', 'Copyright year',\n",
              "       'Creative', 'Episode №', 'Guest(s)', 'Line Producer', 'Main', 'Next',\n",
              "       'Previous', 'Production code', 'Running time', 'Season №',\n",
              "       'Sister episode(s)', 'Storyboard', 'Storyboard Artist(s)',\n",
              "       'Supervising', 'Supervising Producer(s)', 'Technical',\n",
              "       'U.S. premiere time (ET)', 'U.S. viewers (millions)', 'Writer(s)',\n",
              "       'characters', 'title'],\n",
              "      dtype='object')"
            ]
          },
          "metadata": {},
          "execution_count": 6
        }
      ]
    },
    {
      "cell_type": "code",
      "source": [
        "df.columns=[col.lower().replace(' ', '_') for col in df.columns]\n",
        "df.columns"
      ],
      "metadata": {
        "colab": {
          "base_uri": "https://localhost:8080/",
          "height": 0
        },
        "id": "o1Tdjnxnihmt",
        "outputId": "4423062c-0329-4963-8c6c-929e5ae28664"
      },
      "execution_count": 7,
      "outputs": [
        {
          "output_type": "execute_result",
          "data": {
            "text/plain": [
              "Index(['airdate', 'animation', 'animation_supervisor', 'copyright_year',\n",
              "       'creative', 'episode_№', 'guest(s)', 'line_producer', 'main', 'next',\n",
              "       'previous', 'production_code', 'running_time', 'season_№',\n",
              "       'sister_episode(s)', 'storyboard', 'storyboard_artist(s)',\n",
              "       'supervising', 'supervising_producer(s)', 'technical',\n",
              "       'u.s._premiere_time_(et)', 'u.s._viewers_(millions)', 'writer(s)',\n",
              "       'characters', 'title'],\n",
              "      dtype='object')"
            ]
          },
          "metadata": {},
          "execution_count": 7
        }
      ]
    },
    {
      "cell_type": "markdown",
      "source": [
        "Checking for null values"
      ],
      "metadata": {
        "id": "te8RIM11jZdA"
      }
    },
    {
      "cell_type": "code",
      "source": [
        "for col in df.columns:\n",
        "    print(col, df[col].isnull().sum())"
      ],
      "metadata": {
        "colab": {
          "base_uri": "https://localhost:8080/",
          "height": 0
        },
        "collapsed": true,
        "id": "LZtRWAW-jKCd",
        "outputId": "0e9e6cda-f7ec-4708-eb5a-6d6fd6f2c831"
      },
      "execution_count": 8,
      "outputs": [
        {
          "output_type": "stream",
          "name": "stdout",
          "text": [
            "airdate 0\n",
            "animation 14\n",
            "animation_supervisor 581\n",
            "copyright_year 0\n",
            "creative 254\n",
            "episode_№ 0\n",
            "guest(s) 393\n",
            "line_producer 515\n",
            "main 562\n",
            "next 0\n",
            "previous 1\n",
            "production_code 0\n",
            "running_time 0\n",
            "season_№ 0\n",
            "sister_episode(s) 31\n",
            "storyboard 106\n",
            "storyboard_artist(s) 373\n",
            "supervising 355\n",
            "supervising_producer(s) 126\n",
            "technical 544\n",
            "u.s._premiere_time_(et) 1\n",
            "u.s._viewers_(millions) 1\n",
            "writer(s) 2\n",
            "characters 0\n",
            "title 0\n"
          ]
        }
      ]
    },
    {
      "cell_type": "code",
      "source": [
        "df.info()"
      ],
      "metadata": {
        "colab": {
          "base_uri": "https://localhost:8080/",
          "height": 0
        },
        "id": "lRzKTTTMlGBK",
        "outputId": "fcf00c3e-0008-460b-ffa4-6efd35e61752"
      },
      "execution_count": 9,
      "outputs": [
        {
          "output_type": "stream",
          "name": "stdout",
          "text": [
            "<class 'pandas.core.frame.DataFrame'>\n",
            "RangeIndex: 583 entries, 0 to 582\n",
            "Data columns (total 25 columns):\n",
            " #   Column                   Non-Null Count  Dtype \n",
            "---  ------                   --------------  ----- \n",
            " 0   airdate                  583 non-null    object\n",
            " 1   animation                569 non-null    object\n",
            " 2   animation_supervisor     2 non-null      object\n",
            " 3   copyright_year           583 non-null    object\n",
            " 4   creative                 329 non-null    object\n",
            " 5   episode_№                583 non-null    object\n",
            " 6   guest(s)                 190 non-null    object\n",
            " 7   line_producer            68 non-null     object\n",
            " 8   main                     21 non-null     object\n",
            " 9   next                     583 non-null    object\n",
            " 10  previous                 582 non-null    object\n",
            " 11  production_code          583 non-null    object\n",
            " 12  running_time             583 non-null    object\n",
            " 13  season_№                 583 non-null    int64 \n",
            " 14  sister_episode(s)        552 non-null    object\n",
            " 15  storyboard               477 non-null    object\n",
            " 16  storyboard_artist(s)     210 non-null    object\n",
            " 17  supervising              228 non-null    object\n",
            " 18  supervising_producer(s)  457 non-null    object\n",
            " 19  technical                39 non-null     object\n",
            " 20  u.s._premiere_time_(et)  582 non-null    object\n",
            " 21  u.s._viewers_(millions)  582 non-null    object\n",
            " 22  writer(s)                581 non-null    object\n",
            " 23  characters               583 non-null    object\n",
            " 24  title                    583 non-null    object\n",
            "dtypes: int64(1), object(24)\n",
            "memory usage: 114.0+ KB\n"
          ]
        }
      ]
    },
    {
      "cell_type": "code",
      "source": [
        "# I will be focusing on these varaibles in my dataset\n",
        "columns_of_interest = ['season_№', 'running_time', 'airdate', 'u.s._viewers_(millions)', 'sister_episode(s)', 'guest(s)', 'animation']\n",
        "df[columns_of_interest].head()"
      ],
      "metadata": {
        "colab": {
          "base_uri": "https://localhost:8080/",
          "height": 206
        },
        "id": "1ehvnoXFLy66",
        "outputId": "ec3d374c-317f-4937-ec6f-9d2610c11db4"
      },
      "execution_count": 10,
      "outputs": [
        {
          "output_type": "execute_result",
          "data": {
            "text/plain": [
              "   season_№           running_time        airdate u.s._viewers_(millions)  \\\n",
              "0         1  8 minutes, 16 seconds      1997/1998                    2.96   \n",
              "1         1  2 minutes, 50 seconds    May 1, 1999                    2.96   \n",
              "2         1             11 minutes    May 1, 1999                    2.96   \n",
              "3         1  11 minutes, 4 seconds  July 17, 1999                    2.51   \n",
              "4         1  11 minutes, 2 seconds  July 17, 1999                    2.51   \n",
              "\n",
              "                            sister_episode(s)  \\\n",
              "0  ['\"Reef Blower\"', '\"Tea at the Treedome\"']   \n",
              "1  ['\"Help Wanted\"', '\"Tea at the Treedome\"']   \n",
              "2          ['\"Help Wanted\"', '\"Reef Blower\"']   \n",
              "3                              \"Ripped Pants\"   \n",
              "4                               \"Bubblestand\"   \n",
              "\n",
              "                          guest(s)                                   animation  \n",
              "0                              NaN                                  Alan Smart  \n",
              "1                              NaN  ['Fred Miller', 'Tom Yasumi (uncredited)']  \n",
              "2                              NaN                                  Tom Yasumi  \n",
              "3                              NaN                                  Tom Yasumi  \n",
              "4  Jay Lender as Chef (uncredited)                            Edgar Larrazábal  "
            ],
            "text/html": [
              "\n",
              "  <div id=\"df-891fa43b-76d1-4b75-b78a-0fe47086bab5\" class=\"colab-df-container\">\n",
              "    <div>\n",
              "<style scoped>\n",
              "    .dataframe tbody tr th:only-of-type {\n",
              "        vertical-align: middle;\n",
              "    }\n",
              "\n",
              "    .dataframe tbody tr th {\n",
              "        vertical-align: top;\n",
              "    }\n",
              "\n",
              "    .dataframe thead th {\n",
              "        text-align: right;\n",
              "    }\n",
              "</style>\n",
              "<table border=\"1\" class=\"dataframe\">\n",
              "  <thead>\n",
              "    <tr style=\"text-align: right;\">\n",
              "      <th></th>\n",
              "      <th>season_№</th>\n",
              "      <th>running_time</th>\n",
              "      <th>airdate</th>\n",
              "      <th>u.s._viewers_(millions)</th>\n",
              "      <th>sister_episode(s)</th>\n",
              "      <th>guest(s)</th>\n",
              "      <th>animation</th>\n",
              "    </tr>\n",
              "  </thead>\n",
              "  <tbody>\n",
              "    <tr>\n",
              "      <th>0</th>\n",
              "      <td>1</td>\n",
              "      <td>8 minutes, 16 seconds</td>\n",
              "      <td>1997/1998</td>\n",
              "      <td>2.96</td>\n",
              "      <td>['\"Reef Blower\"', '\"Tea at the Treedome\"']</td>\n",
              "      <td>NaN</td>\n",
              "      <td>Alan Smart</td>\n",
              "    </tr>\n",
              "    <tr>\n",
              "      <th>1</th>\n",
              "      <td>1</td>\n",
              "      <td>2 minutes, 50 seconds</td>\n",
              "      <td>May 1, 1999</td>\n",
              "      <td>2.96</td>\n",
              "      <td>['\"Help Wanted\"', '\"Tea at the Treedome\"']</td>\n",
              "      <td>NaN</td>\n",
              "      <td>['Fred Miller', 'Tom Yasumi (uncredited)']</td>\n",
              "    </tr>\n",
              "    <tr>\n",
              "      <th>2</th>\n",
              "      <td>1</td>\n",
              "      <td>11 minutes</td>\n",
              "      <td>May 1, 1999</td>\n",
              "      <td>2.96</td>\n",
              "      <td>['\"Help Wanted\"', '\"Reef Blower\"']</td>\n",
              "      <td>NaN</td>\n",
              "      <td>Tom Yasumi</td>\n",
              "    </tr>\n",
              "    <tr>\n",
              "      <th>3</th>\n",
              "      <td>1</td>\n",
              "      <td>11 minutes, 4 seconds</td>\n",
              "      <td>July 17, 1999</td>\n",
              "      <td>2.51</td>\n",
              "      <td>\"Ripped Pants\"</td>\n",
              "      <td>NaN</td>\n",
              "      <td>Tom Yasumi</td>\n",
              "    </tr>\n",
              "    <tr>\n",
              "      <th>4</th>\n",
              "      <td>1</td>\n",
              "      <td>11 minutes, 2 seconds</td>\n",
              "      <td>July 17, 1999</td>\n",
              "      <td>2.51</td>\n",
              "      <td>\"Bubblestand\"</td>\n",
              "      <td>Jay Lender as Chef (uncredited)</td>\n",
              "      <td>Edgar Larrazábal</td>\n",
              "    </tr>\n",
              "  </tbody>\n",
              "</table>\n",
              "</div>\n",
              "    <div class=\"colab-df-buttons\">\n",
              "\n",
              "  <div class=\"colab-df-container\">\n",
              "    <button class=\"colab-df-convert\" onclick=\"convertToInteractive('df-891fa43b-76d1-4b75-b78a-0fe47086bab5')\"\n",
              "            title=\"Convert this dataframe to an interactive table.\"\n",
              "            style=\"display:none;\">\n",
              "\n",
              "  <svg xmlns=\"http://www.w3.org/2000/svg\" height=\"24px\" viewBox=\"0 -960 960 960\">\n",
              "    <path d=\"M120-120v-720h720v720H120Zm60-500h600v-160H180v160Zm220 220h160v-160H400v160Zm0 220h160v-160H400v160ZM180-400h160v-160H180v160Zm440 0h160v-160H620v160ZM180-180h160v-160H180v160Zm440 0h160v-160H620v160Z\"/>\n",
              "  </svg>\n",
              "    </button>\n",
              "\n",
              "  <style>\n",
              "    .colab-df-container {\n",
              "      display:flex;\n",
              "      gap: 12px;\n",
              "    }\n",
              "\n",
              "    .colab-df-convert {\n",
              "      background-color: #E8F0FE;\n",
              "      border: none;\n",
              "      border-radius: 50%;\n",
              "      cursor: pointer;\n",
              "      display: none;\n",
              "      fill: #1967D2;\n",
              "      height: 32px;\n",
              "      padding: 0 0 0 0;\n",
              "      width: 32px;\n",
              "    }\n",
              "\n",
              "    .colab-df-convert:hover {\n",
              "      background-color: #E2EBFA;\n",
              "      box-shadow: 0px 1px 2px rgba(60, 64, 67, 0.3), 0px 1px 3px 1px rgba(60, 64, 67, 0.15);\n",
              "      fill: #174EA6;\n",
              "    }\n",
              "\n",
              "    .colab-df-buttons div {\n",
              "      margin-bottom: 4px;\n",
              "    }\n",
              "\n",
              "    [theme=dark] .colab-df-convert {\n",
              "      background-color: #3B4455;\n",
              "      fill: #D2E3FC;\n",
              "    }\n",
              "\n",
              "    [theme=dark] .colab-df-convert:hover {\n",
              "      background-color: #434B5C;\n",
              "      box-shadow: 0px 1px 3px 1px rgba(0, 0, 0, 0.15);\n",
              "      filter: drop-shadow(0px 1px 2px rgba(0, 0, 0, 0.3));\n",
              "      fill: #FFFFFF;\n",
              "    }\n",
              "  </style>\n",
              "\n",
              "    <script>\n",
              "      const buttonEl =\n",
              "        document.querySelector('#df-891fa43b-76d1-4b75-b78a-0fe47086bab5 button.colab-df-convert');\n",
              "      buttonEl.style.display =\n",
              "        google.colab.kernel.accessAllowed ? 'block' : 'none';\n",
              "\n",
              "      async function convertToInteractive(key) {\n",
              "        const element = document.querySelector('#df-891fa43b-76d1-4b75-b78a-0fe47086bab5');\n",
              "        const dataTable =\n",
              "          await google.colab.kernel.invokeFunction('convertToInteractive',\n",
              "                                                    [key], {});\n",
              "        if (!dataTable) return;\n",
              "\n",
              "        const docLinkHtml = 'Like what you see? Visit the ' +\n",
              "          '<a target=\"_blank\" href=https://colab.research.google.com/notebooks/data_table.ipynb>data table notebook</a>'\n",
              "          + ' to learn more about interactive tables.';\n",
              "        element.innerHTML = '';\n",
              "        dataTable['output_type'] = 'display_data';\n",
              "        await google.colab.output.renderOutput(dataTable, element);\n",
              "        const docLink = document.createElement('div');\n",
              "        docLink.innerHTML = docLinkHtml;\n",
              "        element.appendChild(docLink);\n",
              "      }\n",
              "    </script>\n",
              "  </div>\n",
              "\n",
              "\n",
              "<div id=\"df-f886d865-e261-425d-a807-b7551487f390\">\n",
              "  <button class=\"colab-df-quickchart\" onclick=\"quickchart('df-f886d865-e261-425d-a807-b7551487f390')\"\n",
              "            title=\"Suggest charts\"\n",
              "            style=\"display:none;\">\n",
              "\n",
              "<svg xmlns=\"http://www.w3.org/2000/svg\" height=\"24px\"viewBox=\"0 0 24 24\"\n",
              "     width=\"24px\">\n",
              "    <g>\n",
              "        <path d=\"M19 3H5c-1.1 0-2 .9-2 2v14c0 1.1.9 2 2 2h14c1.1 0 2-.9 2-2V5c0-1.1-.9-2-2-2zM9 17H7v-7h2v7zm4 0h-2V7h2v10zm4 0h-2v-4h2v4z\"/>\n",
              "    </g>\n",
              "</svg>\n",
              "  </button>\n",
              "\n",
              "<style>\n",
              "  .colab-df-quickchart {\n",
              "      --bg-color: #E8F0FE;\n",
              "      --fill-color: #1967D2;\n",
              "      --hover-bg-color: #E2EBFA;\n",
              "      --hover-fill-color: #174EA6;\n",
              "      --disabled-fill-color: #AAA;\n",
              "      --disabled-bg-color: #DDD;\n",
              "  }\n",
              "\n",
              "  [theme=dark] .colab-df-quickchart {\n",
              "      --bg-color: #3B4455;\n",
              "      --fill-color: #D2E3FC;\n",
              "      --hover-bg-color: #434B5C;\n",
              "      --hover-fill-color: #FFFFFF;\n",
              "      --disabled-bg-color: #3B4455;\n",
              "      --disabled-fill-color: #666;\n",
              "  }\n",
              "\n",
              "  .colab-df-quickchart {\n",
              "    background-color: var(--bg-color);\n",
              "    border: none;\n",
              "    border-radius: 50%;\n",
              "    cursor: pointer;\n",
              "    display: none;\n",
              "    fill: var(--fill-color);\n",
              "    height: 32px;\n",
              "    padding: 0;\n",
              "    width: 32px;\n",
              "  }\n",
              "\n",
              "  .colab-df-quickchart:hover {\n",
              "    background-color: var(--hover-bg-color);\n",
              "    box-shadow: 0 1px 2px rgba(60, 64, 67, 0.3), 0 1px 3px 1px rgba(60, 64, 67, 0.15);\n",
              "    fill: var(--button-hover-fill-color);\n",
              "  }\n",
              "\n",
              "  .colab-df-quickchart-complete:disabled,\n",
              "  .colab-df-quickchart-complete:disabled:hover {\n",
              "    background-color: var(--disabled-bg-color);\n",
              "    fill: var(--disabled-fill-color);\n",
              "    box-shadow: none;\n",
              "  }\n",
              "\n",
              "  .colab-df-spinner {\n",
              "    border: 2px solid var(--fill-color);\n",
              "    border-color: transparent;\n",
              "    border-bottom-color: var(--fill-color);\n",
              "    animation:\n",
              "      spin 1s steps(1) infinite;\n",
              "  }\n",
              "\n",
              "  @keyframes spin {\n",
              "    0% {\n",
              "      border-color: transparent;\n",
              "      border-bottom-color: var(--fill-color);\n",
              "      border-left-color: var(--fill-color);\n",
              "    }\n",
              "    20% {\n",
              "      border-color: transparent;\n",
              "      border-left-color: var(--fill-color);\n",
              "      border-top-color: var(--fill-color);\n",
              "    }\n",
              "    30% {\n",
              "      border-color: transparent;\n",
              "      border-left-color: var(--fill-color);\n",
              "      border-top-color: var(--fill-color);\n",
              "      border-right-color: var(--fill-color);\n",
              "    }\n",
              "    40% {\n",
              "      border-color: transparent;\n",
              "      border-right-color: var(--fill-color);\n",
              "      border-top-color: var(--fill-color);\n",
              "    }\n",
              "    60% {\n",
              "      border-color: transparent;\n",
              "      border-right-color: var(--fill-color);\n",
              "    }\n",
              "    80% {\n",
              "      border-color: transparent;\n",
              "      border-right-color: var(--fill-color);\n",
              "      border-bottom-color: var(--fill-color);\n",
              "    }\n",
              "    90% {\n",
              "      border-color: transparent;\n",
              "      border-bottom-color: var(--fill-color);\n",
              "    }\n",
              "  }\n",
              "</style>\n",
              "\n",
              "  <script>\n",
              "    async function quickchart(key) {\n",
              "      const quickchartButtonEl =\n",
              "        document.querySelector('#' + key + ' button');\n",
              "      quickchartButtonEl.disabled = true;  // To prevent multiple clicks.\n",
              "      quickchartButtonEl.classList.add('colab-df-spinner');\n",
              "      try {\n",
              "        const charts = await google.colab.kernel.invokeFunction(\n",
              "            'suggestCharts', [key], {});\n",
              "      } catch (error) {\n",
              "        console.error('Error during call to suggestCharts:', error);\n",
              "      }\n",
              "      quickchartButtonEl.classList.remove('colab-df-spinner');\n",
              "      quickchartButtonEl.classList.add('colab-df-quickchart-complete');\n",
              "    }\n",
              "    (() => {\n",
              "      let quickchartButtonEl =\n",
              "        document.querySelector('#df-f886d865-e261-425d-a807-b7551487f390 button');\n",
              "      quickchartButtonEl.style.display =\n",
              "        google.colab.kernel.accessAllowed ? 'block' : 'none';\n",
              "    })();\n",
              "  </script>\n",
              "</div>\n",
              "\n",
              "    </div>\n",
              "  </div>\n"
            ],
            "application/vnd.google.colaboratory.intrinsic+json": {
              "type": "dataframe",
              "summary": "{\n  \"name\": \"df[columns_of_interest]\",\n  \"rows\": 5,\n  \"fields\": [\n    {\n      \"column\": \"season_\\u2116\",\n      \"properties\": {\n        \"dtype\": \"number\",\n        \"std\": 0,\n        \"min\": 1,\n        \"max\": 1,\n        \"num_unique_values\": 1,\n        \"samples\": [\n          1\n        ],\n        \"semantic_type\": \"\",\n        \"description\": \"\"\n      }\n    },\n    {\n      \"column\": \"running_time\",\n      \"properties\": {\n        \"dtype\": \"string\",\n        \"num_unique_values\": 5,\n        \"samples\": [\n          \"2 minutes, 50 seconds\"\n        ],\n        \"semantic_type\": \"\",\n        \"description\": \"\"\n      }\n    },\n    {\n      \"column\": \"airdate\",\n      \"properties\": {\n        \"dtype\": \"string\",\n        \"num_unique_values\": 3,\n        \"samples\": [\n          \"1997/1998\"\n        ],\n        \"semantic_type\": \"\",\n        \"description\": \"\"\n      }\n    },\n    {\n      \"column\": \"u.s._viewers_(millions)\",\n      \"properties\": {\n        \"dtype\": \"category\",\n        \"num_unique_values\": 2,\n        \"samples\": [\n          \"2.51\"\n        ],\n        \"semantic_type\": \"\",\n        \"description\": \"\"\n      }\n    },\n    {\n      \"column\": \"sister_episode(s)\",\n      \"properties\": {\n        \"dtype\": \"string\",\n        \"num_unique_values\": 5,\n        \"samples\": [\n          \"['\\\"Help Wanted\\\"', '\\\"Tea at the Treedome\\\"']\"\n        ],\n        \"semantic_type\": \"\",\n        \"description\": \"\"\n      }\n    },\n    {\n      \"column\": \"guest(s)\",\n      \"properties\": {\n        \"dtype\": \"category\",\n        \"num_unique_values\": 1,\n        \"samples\": [\n          \"Jay Lender as Chef (uncredited)\"\n        ],\n        \"semantic_type\": \"\",\n        \"description\": \"\"\n      }\n    },\n    {\n      \"column\": \"animation\",\n      \"properties\": {\n        \"dtype\": \"string\",\n        \"num_unique_values\": 4,\n        \"samples\": [\n          \"['Fred Miller', 'Tom Yasumi (uncredited)']\"\n        ],\n        \"semantic_type\": \"\",\n        \"description\": \"\"\n      }\n    }\n  ]\n}"
            }
          },
          "metadata": {},
          "execution_count": 10
        }
      ]
    },
    {
      "cell_type": "markdown",
      "source": [
        "## Data Cleaning"
      ],
      "metadata": {
        "id": "Yn0-ezKGf9O-"
      }
    },
    {
      "cell_type": "markdown",
      "source": [
        "### Clean the U.S. Viewership:"
      ],
      "metadata": {
        "id": "h3BYREDigKKn"
      }
    },
    {
      "cell_type": "code",
      "source": [
        "# rename U.S._Viewers_(milliions) to 'viewership'\n",
        "df.rename(columns={'u.s._viewers_(millions)': 'viewership'}, inplace=True)\n",
        "df.head(5)"
      ],
      "metadata": {
        "colab": {
          "base_uri": "https://localhost:8080/",
          "height": 637
        },
        "collapsed": true,
        "id": "mSaQKR3ggPiF",
        "outputId": "a01c3bc1-ee36-4050-fba9-cfa403780427"
      },
      "execution_count": 11,
      "outputs": [
        {
          "output_type": "execute_result",
          "data": {
            "text/plain": [
              "         airdate                                   animation  \\\n",
              "0      1997/1998                                  Alan Smart   \n",
              "1    May 1, 1999  ['Fred Miller', 'Tom Yasumi (uncredited)']   \n",
              "2    May 1, 1999                                  Tom Yasumi   \n",
              "3  July 17, 1999                                  Tom Yasumi   \n",
              "4  July 17, 1999                            Edgar Larrazábal   \n",
              "\n",
              "  animation_supervisor                                  copyright_year  \\\n",
              "0                  NaN  ['1997 (1997 version)', '1999 (1999 version)']   \n",
              "1                  NaN                                            1999   \n",
              "2                  NaN                                            1999   \n",
              "3                  NaN                                            1999   \n",
              "4                  NaN                                            1999   \n",
              "\n",
              "                    creative episode_№                         guest(s)  \\\n",
              "0  Derek Drymon (uncredited)        1a                              NaN   \n",
              "1  Derek Drymon (uncredited)        1b                              NaN   \n",
              "2               Derek Drymon        1c                              NaN   \n",
              "3               Derek Drymon        2a                              NaN   \n",
              "4               Derek Drymon        2b  Jay Lender as Chef (uncredited)   \n",
              "\n",
              "  line_producer main                   next  ...                 storyboard  \\\n",
              "0           NaN  NaN          \"Reef Blower\"  ...         Stephen Hillenburg   \n",
              "1           NaN  NaN  \"Tea at the Treedome\"  ...  Paul Tibbitt (uncredited)   \n",
              "2           NaN  NaN          \"Bubblestand\"  ...               Paul Tibbitt   \n",
              "3           NaN  NaN         \"Ripped Pants\"  ...             Ennio Torresan   \n",
              "4           NaN  NaN         \"Jellyfishing\"  ...               Paul Tibbitt   \n",
              "\n",
              "      storyboard_artist(s) supervising  supervising_producer(s) technical  \\\n",
              "0             Derek Drymon         NaN                      NaN       NaN   \n",
              "1  Jay Lender (uncredited)         NaN                      NaN       NaN   \n",
              "2              Mark O'Hare         NaN                      NaN       NaN   \n",
              "3               Erik Wiese         NaN                      NaN       NaN   \n",
              "4              Mark O'Hare         NaN                      NaN       NaN   \n",
              "\n",
              "  u.s._premiere_time_(et) viewership  \\\n",
              "0                 9:30 pm       2.96   \n",
              "1                 9:38 pm       2.96   \n",
              "2                 9:45 pm       2.96   \n",
              "3                10:00 am       2.51   \n",
              "4                10:15 am       2.51   \n",
              "\n",
              "                                           writer(s)  \\\n",
              "0  ['Stephen Hillenburg', 'Derek Drymon', 'Tim Hi...   \n",
              "1  ['Stephen Hillenburg', 'Derek Drymon', 'Tim Hi...   \n",
              "2   ['Peter Burns', 'Doug Lawrence', 'Paul Tibbitt']   \n",
              "3  ['Ennio Torresan', 'Erik Wiese', 'Stephen Hill...   \n",
              "4                    ['Paul Tibbitt', 'Peter Burns']   \n",
              "\n",
              "                                          characters                title  \n",
              "0  French Narrator, Sea urchins, SpongeBob Square...          Help Wanted  \n",
              "1  SpongeBob SquarePants, Squidward Tentacles, Re...          Reef Blower  \n",
              "2  SpongeBob SquarePants, Jellyfish, Lavender jel...  Tea at the Treedome  \n",
              "3  SpongeBob SquarePants, Scallop, Squidward Tent...          Bubblestand  \n",
              "4  French Narrator, SpongeBob SquarePants, Sponge...         Ripped Pants  \n",
              "\n",
              "[5 rows x 25 columns]"
            ],
            "text/html": [
              "\n",
              "  <div id=\"df-1ca4455e-80ba-4d2e-93a9-56faf7b10462\" class=\"colab-df-container\">\n",
              "    <div>\n",
              "<style scoped>\n",
              "    .dataframe tbody tr th:only-of-type {\n",
              "        vertical-align: middle;\n",
              "    }\n",
              "\n",
              "    .dataframe tbody tr th {\n",
              "        vertical-align: top;\n",
              "    }\n",
              "\n",
              "    .dataframe thead th {\n",
              "        text-align: right;\n",
              "    }\n",
              "</style>\n",
              "<table border=\"1\" class=\"dataframe\">\n",
              "  <thead>\n",
              "    <tr style=\"text-align: right;\">\n",
              "      <th></th>\n",
              "      <th>airdate</th>\n",
              "      <th>animation</th>\n",
              "      <th>animation_supervisor</th>\n",
              "      <th>copyright_year</th>\n",
              "      <th>creative</th>\n",
              "      <th>episode_№</th>\n",
              "      <th>guest(s)</th>\n",
              "      <th>line_producer</th>\n",
              "      <th>main</th>\n",
              "      <th>next</th>\n",
              "      <th>...</th>\n",
              "      <th>storyboard</th>\n",
              "      <th>storyboard_artist(s)</th>\n",
              "      <th>supervising</th>\n",
              "      <th>supervising_producer(s)</th>\n",
              "      <th>technical</th>\n",
              "      <th>u.s._premiere_time_(et)</th>\n",
              "      <th>viewership</th>\n",
              "      <th>writer(s)</th>\n",
              "      <th>characters</th>\n",
              "      <th>title</th>\n",
              "    </tr>\n",
              "  </thead>\n",
              "  <tbody>\n",
              "    <tr>\n",
              "      <th>0</th>\n",
              "      <td>1997/1998</td>\n",
              "      <td>Alan Smart</td>\n",
              "      <td>NaN</td>\n",
              "      <td>['1997 (1997 version)', '1999 (1999 version)']</td>\n",
              "      <td>Derek Drymon (uncredited)</td>\n",
              "      <td>1a</td>\n",
              "      <td>NaN</td>\n",
              "      <td>NaN</td>\n",
              "      <td>NaN</td>\n",
              "      <td>\"Reef Blower\"</td>\n",
              "      <td>...</td>\n",
              "      <td>Stephen Hillenburg</td>\n",
              "      <td>Derek Drymon</td>\n",
              "      <td>NaN</td>\n",
              "      <td>NaN</td>\n",
              "      <td>NaN</td>\n",
              "      <td>9:30 pm</td>\n",
              "      <td>2.96</td>\n",
              "      <td>['Stephen Hillenburg', 'Derek Drymon', 'Tim Hi...</td>\n",
              "      <td>French Narrator, Sea urchins, SpongeBob Square...</td>\n",
              "      <td>Help Wanted</td>\n",
              "    </tr>\n",
              "    <tr>\n",
              "      <th>1</th>\n",
              "      <td>May 1, 1999</td>\n",
              "      <td>['Fred Miller', 'Tom Yasumi (uncredited)']</td>\n",
              "      <td>NaN</td>\n",
              "      <td>1999</td>\n",
              "      <td>Derek Drymon (uncredited)</td>\n",
              "      <td>1b</td>\n",
              "      <td>NaN</td>\n",
              "      <td>NaN</td>\n",
              "      <td>NaN</td>\n",
              "      <td>\"Tea at the Treedome\"</td>\n",
              "      <td>...</td>\n",
              "      <td>Paul Tibbitt (uncredited)</td>\n",
              "      <td>Jay Lender (uncredited)</td>\n",
              "      <td>NaN</td>\n",
              "      <td>NaN</td>\n",
              "      <td>NaN</td>\n",
              "      <td>9:38 pm</td>\n",
              "      <td>2.96</td>\n",
              "      <td>['Stephen Hillenburg', 'Derek Drymon', 'Tim Hi...</td>\n",
              "      <td>SpongeBob SquarePants, Squidward Tentacles, Re...</td>\n",
              "      <td>Reef Blower</td>\n",
              "    </tr>\n",
              "    <tr>\n",
              "      <th>2</th>\n",
              "      <td>May 1, 1999</td>\n",
              "      <td>Tom Yasumi</td>\n",
              "      <td>NaN</td>\n",
              "      <td>1999</td>\n",
              "      <td>Derek Drymon</td>\n",
              "      <td>1c</td>\n",
              "      <td>NaN</td>\n",
              "      <td>NaN</td>\n",
              "      <td>NaN</td>\n",
              "      <td>\"Bubblestand\"</td>\n",
              "      <td>...</td>\n",
              "      <td>Paul Tibbitt</td>\n",
              "      <td>Mark O'Hare</td>\n",
              "      <td>NaN</td>\n",
              "      <td>NaN</td>\n",
              "      <td>NaN</td>\n",
              "      <td>9:45 pm</td>\n",
              "      <td>2.96</td>\n",
              "      <td>['Peter Burns', 'Doug Lawrence', 'Paul Tibbitt']</td>\n",
              "      <td>SpongeBob SquarePants, Jellyfish, Lavender jel...</td>\n",
              "      <td>Tea at the Treedome</td>\n",
              "    </tr>\n",
              "    <tr>\n",
              "      <th>3</th>\n",
              "      <td>July 17, 1999</td>\n",
              "      <td>Tom Yasumi</td>\n",
              "      <td>NaN</td>\n",
              "      <td>1999</td>\n",
              "      <td>Derek Drymon</td>\n",
              "      <td>2a</td>\n",
              "      <td>NaN</td>\n",
              "      <td>NaN</td>\n",
              "      <td>NaN</td>\n",
              "      <td>\"Ripped Pants\"</td>\n",
              "      <td>...</td>\n",
              "      <td>Ennio Torresan</td>\n",
              "      <td>Erik Wiese</td>\n",
              "      <td>NaN</td>\n",
              "      <td>NaN</td>\n",
              "      <td>NaN</td>\n",
              "      <td>10:00 am</td>\n",
              "      <td>2.51</td>\n",
              "      <td>['Ennio Torresan', 'Erik Wiese', 'Stephen Hill...</td>\n",
              "      <td>SpongeBob SquarePants, Scallop, Squidward Tent...</td>\n",
              "      <td>Bubblestand</td>\n",
              "    </tr>\n",
              "    <tr>\n",
              "      <th>4</th>\n",
              "      <td>July 17, 1999</td>\n",
              "      <td>Edgar Larrazábal</td>\n",
              "      <td>NaN</td>\n",
              "      <td>1999</td>\n",
              "      <td>Derek Drymon</td>\n",
              "      <td>2b</td>\n",
              "      <td>Jay Lender as Chef (uncredited)</td>\n",
              "      <td>NaN</td>\n",
              "      <td>NaN</td>\n",
              "      <td>\"Jellyfishing\"</td>\n",
              "      <td>...</td>\n",
              "      <td>Paul Tibbitt</td>\n",
              "      <td>Mark O'Hare</td>\n",
              "      <td>NaN</td>\n",
              "      <td>NaN</td>\n",
              "      <td>NaN</td>\n",
              "      <td>10:15 am</td>\n",
              "      <td>2.51</td>\n",
              "      <td>['Paul Tibbitt', 'Peter Burns']</td>\n",
              "      <td>French Narrator, SpongeBob SquarePants, Sponge...</td>\n",
              "      <td>Ripped Pants</td>\n",
              "    </tr>\n",
              "  </tbody>\n",
              "</table>\n",
              "<p>5 rows × 25 columns</p>\n",
              "</div>\n",
              "    <div class=\"colab-df-buttons\">\n",
              "\n",
              "  <div class=\"colab-df-container\">\n",
              "    <button class=\"colab-df-convert\" onclick=\"convertToInteractive('df-1ca4455e-80ba-4d2e-93a9-56faf7b10462')\"\n",
              "            title=\"Convert this dataframe to an interactive table.\"\n",
              "            style=\"display:none;\">\n",
              "\n",
              "  <svg xmlns=\"http://www.w3.org/2000/svg\" height=\"24px\" viewBox=\"0 -960 960 960\">\n",
              "    <path d=\"M120-120v-720h720v720H120Zm60-500h600v-160H180v160Zm220 220h160v-160H400v160Zm0 220h160v-160H400v160ZM180-400h160v-160H180v160Zm440 0h160v-160H620v160ZM180-180h160v-160H180v160Zm440 0h160v-160H620v160Z\"/>\n",
              "  </svg>\n",
              "    </button>\n",
              "\n",
              "  <style>\n",
              "    .colab-df-container {\n",
              "      display:flex;\n",
              "      gap: 12px;\n",
              "    }\n",
              "\n",
              "    .colab-df-convert {\n",
              "      background-color: #E8F0FE;\n",
              "      border: none;\n",
              "      border-radius: 50%;\n",
              "      cursor: pointer;\n",
              "      display: none;\n",
              "      fill: #1967D2;\n",
              "      height: 32px;\n",
              "      padding: 0 0 0 0;\n",
              "      width: 32px;\n",
              "    }\n",
              "\n",
              "    .colab-df-convert:hover {\n",
              "      background-color: #E2EBFA;\n",
              "      box-shadow: 0px 1px 2px rgba(60, 64, 67, 0.3), 0px 1px 3px 1px rgba(60, 64, 67, 0.15);\n",
              "      fill: #174EA6;\n",
              "    }\n",
              "\n",
              "    .colab-df-buttons div {\n",
              "      margin-bottom: 4px;\n",
              "    }\n",
              "\n",
              "    [theme=dark] .colab-df-convert {\n",
              "      background-color: #3B4455;\n",
              "      fill: #D2E3FC;\n",
              "    }\n",
              "\n",
              "    [theme=dark] .colab-df-convert:hover {\n",
              "      background-color: #434B5C;\n",
              "      box-shadow: 0px 1px 3px 1px rgba(0, 0, 0, 0.15);\n",
              "      filter: drop-shadow(0px 1px 2px rgba(0, 0, 0, 0.3));\n",
              "      fill: #FFFFFF;\n",
              "    }\n",
              "  </style>\n",
              "\n",
              "    <script>\n",
              "      const buttonEl =\n",
              "        document.querySelector('#df-1ca4455e-80ba-4d2e-93a9-56faf7b10462 button.colab-df-convert');\n",
              "      buttonEl.style.display =\n",
              "        google.colab.kernel.accessAllowed ? 'block' : 'none';\n",
              "\n",
              "      async function convertToInteractive(key) {\n",
              "        const element = document.querySelector('#df-1ca4455e-80ba-4d2e-93a9-56faf7b10462');\n",
              "        const dataTable =\n",
              "          await google.colab.kernel.invokeFunction('convertToInteractive',\n",
              "                                                    [key], {});\n",
              "        if (!dataTable) return;\n",
              "\n",
              "        const docLinkHtml = 'Like what you see? Visit the ' +\n",
              "          '<a target=\"_blank\" href=https://colab.research.google.com/notebooks/data_table.ipynb>data table notebook</a>'\n",
              "          + ' to learn more about interactive tables.';\n",
              "        element.innerHTML = '';\n",
              "        dataTable['output_type'] = 'display_data';\n",
              "        await google.colab.output.renderOutput(dataTable, element);\n",
              "        const docLink = document.createElement('div');\n",
              "        docLink.innerHTML = docLinkHtml;\n",
              "        element.appendChild(docLink);\n",
              "      }\n",
              "    </script>\n",
              "  </div>\n",
              "\n",
              "\n",
              "<div id=\"df-baac60b7-9d89-4c2d-a9f4-3ad4bc585713\">\n",
              "  <button class=\"colab-df-quickchart\" onclick=\"quickchart('df-baac60b7-9d89-4c2d-a9f4-3ad4bc585713')\"\n",
              "            title=\"Suggest charts\"\n",
              "            style=\"display:none;\">\n",
              "\n",
              "<svg xmlns=\"http://www.w3.org/2000/svg\" height=\"24px\"viewBox=\"0 0 24 24\"\n",
              "     width=\"24px\">\n",
              "    <g>\n",
              "        <path d=\"M19 3H5c-1.1 0-2 .9-2 2v14c0 1.1.9 2 2 2h14c1.1 0 2-.9 2-2V5c0-1.1-.9-2-2-2zM9 17H7v-7h2v7zm4 0h-2V7h2v10zm4 0h-2v-4h2v4z\"/>\n",
              "    </g>\n",
              "</svg>\n",
              "  </button>\n",
              "\n",
              "<style>\n",
              "  .colab-df-quickchart {\n",
              "      --bg-color: #E8F0FE;\n",
              "      --fill-color: #1967D2;\n",
              "      --hover-bg-color: #E2EBFA;\n",
              "      --hover-fill-color: #174EA6;\n",
              "      --disabled-fill-color: #AAA;\n",
              "      --disabled-bg-color: #DDD;\n",
              "  }\n",
              "\n",
              "  [theme=dark] .colab-df-quickchart {\n",
              "      --bg-color: #3B4455;\n",
              "      --fill-color: #D2E3FC;\n",
              "      --hover-bg-color: #434B5C;\n",
              "      --hover-fill-color: #FFFFFF;\n",
              "      --disabled-bg-color: #3B4455;\n",
              "      --disabled-fill-color: #666;\n",
              "  }\n",
              "\n",
              "  .colab-df-quickchart {\n",
              "    background-color: var(--bg-color);\n",
              "    border: none;\n",
              "    border-radius: 50%;\n",
              "    cursor: pointer;\n",
              "    display: none;\n",
              "    fill: var(--fill-color);\n",
              "    height: 32px;\n",
              "    padding: 0;\n",
              "    width: 32px;\n",
              "  }\n",
              "\n",
              "  .colab-df-quickchart:hover {\n",
              "    background-color: var(--hover-bg-color);\n",
              "    box-shadow: 0 1px 2px rgba(60, 64, 67, 0.3), 0 1px 3px 1px rgba(60, 64, 67, 0.15);\n",
              "    fill: var(--button-hover-fill-color);\n",
              "  }\n",
              "\n",
              "  .colab-df-quickchart-complete:disabled,\n",
              "  .colab-df-quickchart-complete:disabled:hover {\n",
              "    background-color: var(--disabled-bg-color);\n",
              "    fill: var(--disabled-fill-color);\n",
              "    box-shadow: none;\n",
              "  }\n",
              "\n",
              "  .colab-df-spinner {\n",
              "    border: 2px solid var(--fill-color);\n",
              "    border-color: transparent;\n",
              "    border-bottom-color: var(--fill-color);\n",
              "    animation:\n",
              "      spin 1s steps(1) infinite;\n",
              "  }\n",
              "\n",
              "  @keyframes spin {\n",
              "    0% {\n",
              "      border-color: transparent;\n",
              "      border-bottom-color: var(--fill-color);\n",
              "      border-left-color: var(--fill-color);\n",
              "    }\n",
              "    20% {\n",
              "      border-color: transparent;\n",
              "      border-left-color: var(--fill-color);\n",
              "      border-top-color: var(--fill-color);\n",
              "    }\n",
              "    30% {\n",
              "      border-color: transparent;\n",
              "      border-left-color: var(--fill-color);\n",
              "      border-top-color: var(--fill-color);\n",
              "      border-right-color: var(--fill-color);\n",
              "    }\n",
              "    40% {\n",
              "      border-color: transparent;\n",
              "      border-right-color: var(--fill-color);\n",
              "      border-top-color: var(--fill-color);\n",
              "    }\n",
              "    60% {\n",
              "      border-color: transparent;\n",
              "      border-right-color: var(--fill-color);\n",
              "    }\n",
              "    80% {\n",
              "      border-color: transparent;\n",
              "      border-right-color: var(--fill-color);\n",
              "      border-bottom-color: var(--fill-color);\n",
              "    }\n",
              "    90% {\n",
              "      border-color: transparent;\n",
              "      border-bottom-color: var(--fill-color);\n",
              "    }\n",
              "  }\n",
              "</style>\n",
              "\n",
              "  <script>\n",
              "    async function quickchart(key) {\n",
              "      const quickchartButtonEl =\n",
              "        document.querySelector('#' + key + ' button');\n",
              "      quickchartButtonEl.disabled = true;  // To prevent multiple clicks.\n",
              "      quickchartButtonEl.classList.add('colab-df-spinner');\n",
              "      try {\n",
              "        const charts = await google.colab.kernel.invokeFunction(\n",
              "            'suggestCharts', [key], {});\n",
              "      } catch (error) {\n",
              "        console.error('Error during call to suggestCharts:', error);\n",
              "      }\n",
              "      quickchartButtonEl.classList.remove('colab-df-spinner');\n",
              "      quickchartButtonEl.classList.add('colab-df-quickchart-complete');\n",
              "    }\n",
              "    (() => {\n",
              "      let quickchartButtonEl =\n",
              "        document.querySelector('#df-baac60b7-9d89-4c2d-a9f4-3ad4bc585713 button');\n",
              "      quickchartButtonEl.style.display =\n",
              "        google.colab.kernel.accessAllowed ? 'block' : 'none';\n",
              "    })();\n",
              "  </script>\n",
              "</div>\n",
              "\n",
              "    </div>\n",
              "  </div>\n"
            ],
            "application/vnd.google.colaboratory.intrinsic+json": {
              "type": "dataframe",
              "variable_name": "df"
            }
          },
          "metadata": {},
          "execution_count": 11
        }
      ]
    },
    {
      "cell_type": "code",
      "source": [
        "df['viewership'].value_counts()"
      ],
      "metadata": {
        "colab": {
          "base_uri": "https://localhost:8080/",
          "height": 489
        },
        "collapsed": true,
        "id": "Hc6k6xNxySMC",
        "outputId": "a44fecb7-1901-4e37-c63b-a18575b4b0ff"
      },
      "execution_count": 12,
      "outputs": [
        {
          "output_type": "execute_result",
          "data": {
            "text/plain": [
              "viewership\n",
              "TBD     11\n",
              "2.27     7\n",
              "3.65     6\n",
              "2.96     5\n",
              "3.28     5\n",
              "        ..\n",
              "3.72     1\n",
              "3.80     1\n",
              "3.82     1\n",
              "5.76     1\n",
              "0.17     1\n",
              "Name: count, Length: 290, dtype: int64"
            ],
            "text/html": [
              "<div>\n",
              "<style scoped>\n",
              "    .dataframe tbody tr th:only-of-type {\n",
              "        vertical-align: middle;\n",
              "    }\n",
              "\n",
              "    .dataframe tbody tr th {\n",
              "        vertical-align: top;\n",
              "    }\n",
              "\n",
              "    .dataframe thead th {\n",
              "        text-align: right;\n",
              "    }\n",
              "</style>\n",
              "<table border=\"1\" class=\"dataframe\">\n",
              "  <thead>\n",
              "    <tr style=\"text-align: right;\">\n",
              "      <th></th>\n",
              "      <th>count</th>\n",
              "    </tr>\n",
              "    <tr>\n",
              "      <th>viewership</th>\n",
              "      <th></th>\n",
              "    </tr>\n",
              "  </thead>\n",
              "  <tbody>\n",
              "    <tr>\n",
              "      <th>TBD</th>\n",
              "      <td>11</td>\n",
              "    </tr>\n",
              "    <tr>\n",
              "      <th>2.27</th>\n",
              "      <td>7</td>\n",
              "    </tr>\n",
              "    <tr>\n",
              "      <th>3.65</th>\n",
              "      <td>6</td>\n",
              "    </tr>\n",
              "    <tr>\n",
              "      <th>2.96</th>\n",
              "      <td>5</td>\n",
              "    </tr>\n",
              "    <tr>\n",
              "      <th>3.28</th>\n",
              "      <td>5</td>\n",
              "    </tr>\n",
              "    <tr>\n",
              "      <th>...</th>\n",
              "      <td>...</td>\n",
              "    </tr>\n",
              "    <tr>\n",
              "      <th>3.72</th>\n",
              "      <td>1</td>\n",
              "    </tr>\n",
              "    <tr>\n",
              "      <th>3.80</th>\n",
              "      <td>1</td>\n",
              "    </tr>\n",
              "    <tr>\n",
              "      <th>3.82</th>\n",
              "      <td>1</td>\n",
              "    </tr>\n",
              "    <tr>\n",
              "      <th>5.76</th>\n",
              "      <td>1</td>\n",
              "    </tr>\n",
              "    <tr>\n",
              "      <th>0.17</th>\n",
              "      <td>1</td>\n",
              "    </tr>\n",
              "  </tbody>\n",
              "</table>\n",
              "<p>290 rows × 1 columns</p>\n",
              "</div><br><label><b>dtype:</b> int64</label>"
            ]
          },
          "metadata": {},
          "execution_count": 12
        }
      ]
    },
    {
      "cell_type": "code",
      "source": [
        "# remove any rows with TBD as viewership\n",
        "df=df[df['viewership']!='TBD']\n",
        "df['viewership'].value_counts()"
      ],
      "metadata": {
        "colab": {
          "base_uri": "https://localhost:8080/",
          "height": 489
        },
        "collapsed": true,
        "id": "d_3THM7Gyv0u",
        "outputId": "04d56c18-c55d-49ff-c258-89aaf36f41ef"
      },
      "execution_count": 13,
      "outputs": [
        {
          "output_type": "execute_result",
          "data": {
            "text/plain": [
              "viewership\n",
              "2.27    7\n",
              "3.65    6\n",
              "2.96    5\n",
              "2.54    5\n",
              "3.91    5\n",
              "       ..\n",
              "4.73    1\n",
              "3.13    1\n",
              "4.05    1\n",
              "3.06    1\n",
              "0.17    1\n",
              "Name: count, Length: 289, dtype: int64"
            ],
            "text/html": [
              "<div>\n",
              "<style scoped>\n",
              "    .dataframe tbody tr th:only-of-type {\n",
              "        vertical-align: middle;\n",
              "    }\n",
              "\n",
              "    .dataframe tbody tr th {\n",
              "        vertical-align: top;\n",
              "    }\n",
              "\n",
              "    .dataframe thead th {\n",
              "        text-align: right;\n",
              "    }\n",
              "</style>\n",
              "<table border=\"1\" class=\"dataframe\">\n",
              "  <thead>\n",
              "    <tr style=\"text-align: right;\">\n",
              "      <th></th>\n",
              "      <th>count</th>\n",
              "    </tr>\n",
              "    <tr>\n",
              "      <th>viewership</th>\n",
              "      <th></th>\n",
              "    </tr>\n",
              "  </thead>\n",
              "  <tbody>\n",
              "    <tr>\n",
              "      <th>2.27</th>\n",
              "      <td>7</td>\n",
              "    </tr>\n",
              "    <tr>\n",
              "      <th>3.65</th>\n",
              "      <td>6</td>\n",
              "    </tr>\n",
              "    <tr>\n",
              "      <th>2.96</th>\n",
              "      <td>5</td>\n",
              "    </tr>\n",
              "    <tr>\n",
              "      <th>2.54</th>\n",
              "      <td>5</td>\n",
              "    </tr>\n",
              "    <tr>\n",
              "      <th>3.91</th>\n",
              "      <td>5</td>\n",
              "    </tr>\n",
              "    <tr>\n",
              "      <th>...</th>\n",
              "      <td>...</td>\n",
              "    </tr>\n",
              "    <tr>\n",
              "      <th>4.73</th>\n",
              "      <td>1</td>\n",
              "    </tr>\n",
              "    <tr>\n",
              "      <th>3.13</th>\n",
              "      <td>1</td>\n",
              "    </tr>\n",
              "    <tr>\n",
              "      <th>4.05</th>\n",
              "      <td>1</td>\n",
              "    </tr>\n",
              "    <tr>\n",
              "      <th>3.06</th>\n",
              "      <td>1</td>\n",
              "    </tr>\n",
              "    <tr>\n",
              "      <th>0.17</th>\n",
              "      <td>1</td>\n",
              "    </tr>\n",
              "  </tbody>\n",
              "</table>\n",
              "<p>289 rows × 1 columns</p>\n",
              "</div><br><label><b>dtype:</b> int64</label>"
            ]
          },
          "metadata": {},
          "execution_count": 13
        }
      ]
    },
    {
      "cell_type": "code",
      "source": [
        "# convert column from object dtype to numeric\n",
        "df['viewership']=pd.to_numeric(df['viewership'], errors='coerce')\n",
        "df.info()"
      ],
      "metadata": {
        "colab": {
          "base_uri": "https://localhost:8080/",
          "height": 0
        },
        "collapsed": true,
        "id": "x5Dr-FBhzP7Y",
        "outputId": "ec581c9e-b394-43e2-bf2e-306d33e91f84"
      },
      "execution_count": 14,
      "outputs": [
        {
          "output_type": "stream",
          "name": "stdout",
          "text": [
            "<class 'pandas.core.frame.DataFrame'>\n",
            "Index: 572 entries, 0 to 572\n",
            "Data columns (total 25 columns):\n",
            " #   Column                   Non-Null Count  Dtype  \n",
            "---  ------                   --------------  -----  \n",
            " 0   airdate                  572 non-null    object \n",
            " 1   animation                561 non-null    object \n",
            " 2   animation_supervisor     2 non-null      object \n",
            " 3   copyright_year           572 non-null    object \n",
            " 4   creative                 329 non-null    object \n",
            " 5   episode_№                572 non-null    object \n",
            " 6   guest(s)                 189 non-null    object \n",
            " 7   line_producer            57 non-null     object \n",
            " 8   main                     21 non-null     object \n",
            " 9   next                     572 non-null    object \n",
            " 10  previous                 571 non-null    object \n",
            " 11  production_code          572 non-null    object \n",
            " 12  running_time             572 non-null    object \n",
            " 13  season_№                 572 non-null    int64  \n",
            " 14  sister_episode(s)        543 non-null    object \n",
            " 15  storyboard               468 non-null    object \n",
            " 16  storyboard_artist(s)     210 non-null    object \n",
            " 17  supervising              218 non-null    object \n",
            " 18  supervising_producer(s)  446 non-null    object \n",
            " 19  technical                39 non-null     object \n",
            " 20  u.s._premiere_time_(et)  571 non-null    object \n",
            " 21  viewership               559 non-null    float64\n",
            " 22  writer(s)                572 non-null    object \n",
            " 23  characters               572 non-null    object \n",
            " 24  title                    572 non-null    object \n",
            "dtypes: float64(1), int64(1), object(23)\n",
            "memory usage: 116.2+ KB\n"
          ]
        },
        {
          "output_type": "stream",
          "name": "stderr",
          "text": [
            "<ipython-input-14-b58d84c9bc44>:2: SettingWithCopyWarning: \n",
            "A value is trying to be set on a copy of a slice from a DataFrame.\n",
            "Try using .loc[row_indexer,col_indexer] = value instead\n",
            "\n",
            "See the caveats in the documentation: https://pandas.pydata.org/pandas-docs/stable/user_guide/indexing.html#returning-a-view-versus-a-copy\n",
            "  df['viewership']=pd.to_numeric(df['viewership'], errors='coerce')\n"
          ]
        }
      ]
    },
    {
      "cell_type": "code",
      "source": [
        "print(df['viewership'].isna().sum())"
      ],
      "metadata": {
        "colab": {
          "base_uri": "https://localhost:8080/",
          "height": 0
        },
        "id": "9KttmG7vzwb_",
        "outputId": "d0ad0b18-64d8-493c-feff-67bd426f481b"
      },
      "execution_count": 15,
      "outputs": [
        {
          "output_type": "stream",
          "name": "stdout",
          "text": [
            "13\n"
          ]
        }
      ]
    },
    {
      "cell_type": "code",
      "source": [
        "#Imputing some missing values in views column\n",
        "from sklearn.impute import SimpleImputer\n",
        "imputer=SimpleImputer(strategy='most_frequent')\n",
        "df['viewership']=imputer.fit_transform(df[['viewership']])\n",
        "print(df['viewership'].isna().sum())"
      ],
      "metadata": {
        "colab": {
          "base_uri": "https://localhost:8080/",
          "height": 0
        },
        "id": "FrZVhWK90Znw",
        "outputId": "ca75af6f-d335-435a-eb19-966579606fb1"
      },
      "execution_count": 16,
      "outputs": [
        {
          "output_type": "stream",
          "name": "stdout",
          "text": [
            "0\n"
          ]
        }
      ]
    },
    {
      "cell_type": "markdown",
      "source": [
        "### Clean Running Time"
      ],
      "metadata": {
        "id": "bh0vKCgMhEI-"
      }
    },
    {
      "cell_type": "code",
      "source": [
        "print(df['running_time'].isna().sum())"
      ],
      "metadata": {
        "colab": {
          "base_uri": "https://localhost:8080/",
          "height": 0
        },
        "id": "syiTvs1XgH3_",
        "outputId": "202d855d-d245-4cc5-9dff-0490ee046231"
      },
      "execution_count": 17,
      "outputs": [
        {
          "output_type": "stream",
          "name": "stdout",
          "text": [
            "0\n"
          ]
        }
      ]
    },
    {
      "cell_type": "code",
      "source": [
        "df['running_time'].value_counts()"
      ],
      "metadata": {
        "colab": {
          "base_uri": "https://localhost:8080/",
          "height": 489
        },
        "id": "57ZD42Dp2u0c",
        "outputId": "238b4e49-2a00-4eb7-ee64-b7ec1e97464f"
      },
      "execution_count": 18,
      "outputs": [
        {
          "output_type": "execute_result",
          "data": {
            "text/plain": [
              "running_time\n",
              "11 minutes                200\n",
              "10 minutes, 59 seconds     28\n",
              "11 minutes, 1 second       28\n",
              "10 minutes, 58 seconds     25\n",
              "10 minutes, 52 seconds     20\n",
              "                         ... \n",
              "11 minutes, 37 seconds      1\n",
              "11 minutes, 5 seconds       1\n",
              "22 minutes, 31 seconds      1\n",
              "58 minutes                  1\n",
              "7 minutes, 10 seconds       1\n",
              "Name: count, Length: 97, dtype: int64"
            ],
            "text/html": [
              "<div>\n",
              "<style scoped>\n",
              "    .dataframe tbody tr th:only-of-type {\n",
              "        vertical-align: middle;\n",
              "    }\n",
              "\n",
              "    .dataframe tbody tr th {\n",
              "        vertical-align: top;\n",
              "    }\n",
              "\n",
              "    .dataframe thead th {\n",
              "        text-align: right;\n",
              "    }\n",
              "</style>\n",
              "<table border=\"1\" class=\"dataframe\">\n",
              "  <thead>\n",
              "    <tr style=\"text-align: right;\">\n",
              "      <th></th>\n",
              "      <th>count</th>\n",
              "    </tr>\n",
              "    <tr>\n",
              "      <th>running_time</th>\n",
              "      <th></th>\n",
              "    </tr>\n",
              "  </thead>\n",
              "  <tbody>\n",
              "    <tr>\n",
              "      <th>11 minutes</th>\n",
              "      <td>200</td>\n",
              "    </tr>\n",
              "    <tr>\n",
              "      <th>10 minutes, 59 seconds</th>\n",
              "      <td>28</td>\n",
              "    </tr>\n",
              "    <tr>\n",
              "      <th>11 minutes, 1 second</th>\n",
              "      <td>28</td>\n",
              "    </tr>\n",
              "    <tr>\n",
              "      <th>10 minutes, 58 seconds</th>\n",
              "      <td>25</td>\n",
              "    </tr>\n",
              "    <tr>\n",
              "      <th>10 minutes, 52 seconds</th>\n",
              "      <td>20</td>\n",
              "    </tr>\n",
              "    <tr>\n",
              "      <th>...</th>\n",
              "      <td>...</td>\n",
              "    </tr>\n",
              "    <tr>\n",
              "      <th>11 minutes, 37 seconds</th>\n",
              "      <td>1</td>\n",
              "    </tr>\n",
              "    <tr>\n",
              "      <th>11 minutes, 5 seconds</th>\n",
              "      <td>1</td>\n",
              "    </tr>\n",
              "    <tr>\n",
              "      <th>22 minutes, 31 seconds</th>\n",
              "      <td>1</td>\n",
              "    </tr>\n",
              "    <tr>\n",
              "      <th>58 minutes</th>\n",
              "      <td>1</td>\n",
              "    </tr>\n",
              "    <tr>\n",
              "      <th>7 minutes, 10 seconds</th>\n",
              "      <td>1</td>\n",
              "    </tr>\n",
              "  </tbody>\n",
              "</table>\n",
              "<p>97 rows × 1 columns</p>\n",
              "</div><br><label><b>dtype:</b> int64</label>"
            ]
          },
          "metadata": {},
          "execution_count": 18
        }
      ]
    },
    {
      "cell_type": "code",
      "source": [
        "def convert_to_minutes(running_time):\n",
        "    if isinstance(running_time, str):\n",
        "        running_time = running_time.replace(\"'\", \"\").replace(\"[\", \"\").replace(\"]\", \"\").strip()  # Clean brackets and quotes\n",
        "        if 'minute' in running_time:\n",
        "            parts = running_time.split(',')\n",
        "            minutes = int(parts[0].split()[0])  # Get minutes\n",
        "            seconds = int(parts[1].split()[0]) if len(parts) > 1 else 0\n",
        "            return minutes + seconds / 60\n",
        "        elif 'second' in running_time:  # Handle cases with seconds only\n",
        "            seconds = int(running_time.split()[0])\n",
        "            return seconds / 60  # Convert seconds to minutes\n",
        "    return None  # Handle 'TBA' or other cases\n",
        "\n",
        "# Apply the function to the running_time column\n",
        "df['running_time_minutes'] = df['running_time'].apply(convert_to_minutes)"
      ],
      "metadata": {
        "collapsed": true,
        "id": "ax76FkJCrplK"
      },
      "execution_count": 19,
      "outputs": []
    },
    {
      "cell_type": "markdown",
      "source": [
        "### Clean the Sister Episode(s):"
      ],
      "metadata": {
        "id": "F7dujASjgQfc"
      }
    },
    {
      "cell_type": "code",
      "source": [
        "print(df['sister_episode(s)'].isna().sum())"
      ],
      "metadata": {
        "colab": {
          "base_uri": "https://localhost:8080/",
          "height": 0
        },
        "id": "iCs92y-jgXT3",
        "outputId": "fb229912-8236-48d7-be63-9415dadfcd4d"
      },
      "execution_count": 20,
      "outputs": [
        {
          "output_type": "stream",
          "name": "stdout",
          "text": [
            "29\n"
          ]
        }
      ]
    },
    {
      "cell_type": "code",
      "source": [
        "unique_values = df['sister_episode(s)'].unique()\n",
        "print(unique_values)"
      ],
      "metadata": {
        "colab": {
          "base_uri": "https://localhost:8080/",
          "height": 0
        },
        "collapsed": true,
        "id": "Xip1JuDa0ApB",
        "outputId": "a4273205-4bea-4d85-e79f-b339b8fa8e35"
      },
      "execution_count": 21,
      "outputs": [
        {
          "output_type": "stream",
          "name": "stdout",
          "text": [
            "['[\\'\"Reef Blower\"\\', \\'\"Tea at the Treedome\"\\']'\n",
            " '[\\'\"Help Wanted\"\\', \\'\"Tea at the Treedome\"\\']'\n",
            " '[\\'\"Help Wanted\"\\', \\'\"Reef Blower\"\\']' '\"Ripped Pants\"' '\"Bubblestand\"'\n",
            " '\"Plankton!\"' '\"Jellyfishing\"' '\"Boating School\"'\n",
            " '\"Naughty Nautical Neighbors\"' '\"Home Sweet Pineapple\"'\n",
            " '\"Pizza Delivery\"' '\"Pickles\"' '\"Mermaid Man and Barnacle Boy\"'\n",
            " '\"Jellyfish Jam\"' '\"Hall Monitor\"' '\"Squeaky Boots\"' '\"Sandy\\'s Rocket\"'\n",
            " '\"Opposite Day\"' '\"Nature Pants\"' '\"F.U.N.\"' '\"Culture Shock\"'\n",
            " '\"Squidward the Unfriendly Ghost\"' '\"MuscleBob BuffPants\"'\n",
            " '\"Employee of the Month\"' '\"The Chaperone\"' '\"I Was a Teenage Gary\"'\n",
            " '\"Scaredy Pants\"' '\"Karate Choppers\"' '\"SB-129\"' '\"Suds\"' '\"Sleepy Time\"'\n",
            " '\"The Paper\"' '\"Valentine\\'s Day\"' '\"Rock Bottom\"' '\"Arrgh!\"'\n",
            " '\"Walking Small\"' '\"Texas\"' '\"Neptune\\'s Spatula\"' '\"Fools in April\"'\n",
            " '\"Mermaid Man and Barnacle Boy II\"' '\"Hooky\"' '\"Squid\\'s Day Off\"'\n",
            " '\"Your Shoe\\'s Untied\"' '\"Bossy Boots\"' '\"Something Smells\"'\n",
            " '\"Bubble Buddy\"' '\"Big Pink Loser\"' '\"Imitation Krabs\"' '\"Dying for Pie\"'\n",
            " '\"Patty Hype\"' '\"Wormy\"' '\"Squidville\"' '\"Grandma\\'s Kisses\"'\n",
            " '\"Life of Crime\"' '\"Prehibernation Week\"' nan '\"Dumped\"'\n",
            " '\"Survival of the Idiots\"' '\"I\\'m Your Biggest Fanatic\"'\n",
            " '\"No Free Rides\"' '\"Squirrel Jokes\"' '\"Mermaid Man and Barnacle Boy III\"'\n",
            " '\"The Smoking Peanut\"' '\"Pressure\"' '\"Gary Takes a Bath\"' '\"Shanghaied\"'\n",
            " '\"Frankendoodle\"' '\"Welcome to the Chum Bucket\"' '\"Band Geeks\"'\n",
            " '\"The Secret Box\"' '\"Krusty Love\"' '\"Graveyard Shift\"'\n",
            " '\"I\\'m with Stupid\"' '\"Procrastination\"' '\"Artist Unknown\"'\n",
            " '\"Sailor Mouth\"' '\"The Fry Cook Games\"' '\"Jellyfish Hunter\"'\n",
            " '\"Sandy, SpongeBob, and the Worm\"' '\"Squid on Strike\"'\n",
            " '\"SpongeGuard on Duty\"' '\"The Algae\\'s Always Greener\"'\n",
            " '\"My Pretty Seahorse\"' '\"Club SpongeBob\"' '\"The Bully\"' '\"Just One Bite\"'\n",
            " '\"Idiot Box\"' '\"Nasty Patty\"' '\"Doing Time\"'\n",
            " '\"Mermaid Man and Barnacle Boy IV\"' '\"One Krabs Trash\"'\n",
            " '\"Snowball Effect\"' '\"Can You Spare a Dime?\"' '\"As Seen on TV\"'\n",
            " '\"Squilliam Returns\"' '\"No Weenies Allowed\"' '\"Rock-a-Bye Bivalve\"'\n",
            " '\"Krab Borg\"' '\"Krusty Krab Training Video\"' '\"Wet Painters\"'\n",
            " '\"Mermaid Man and Barnacle Boy V\"' '\"Chocolate with Nuts\"' '\"Clams\"'\n",
            " '\"New Student Starfish\"' '\"Mid-Life Crustacean\"' '\"The Great Snail Race\"'\n",
            " '\"I Had an Accident\"' '\"Born Again Krabs\"' '\"The Camping Episode\"'\n",
            " '\"Krabby Land\"' '\"Plankton\\'s Army\"' '\"Missing Identity\"'\n",
            " '\"Pranks a Lot\"' '\"SpongeBob Meets the Strangler\"' '\"Shell of a Man\"'\n",
            " '\"Fear of a Krabby Patty\"' '\"Krabs vs. Plankton\"' '\"The Lost Mattress\"'\n",
            " '\"Good Neighbors\"' '\"Skill Crane\"' '\"Funny Pants\"' '\"Selling Out\"'\n",
            " '\"Mermaid Man &amp; Barnacle Boy VI: The Motion Picture\"'\n",
            " '\"Enemy In-Law\"' '\"SquidBob TentaclePants\"' '\"Patrick SmartPants\"'\n",
            " '\"Mrs. Puff, You\\'re Fired\"' '\"Krusty Towers\"' '\"Ghost Host\"'\n",
            " '\"Chimps Ahoy\"' '\"Karate Island\"' '\"Whale of a Birthday\"'\n",
            " '\"Wishing You Well\"' '\"All That Glitters\"' '\"Once Bitten\"' '\"New Leaf\"'\n",
            " '\"Wigstruck\"' '\"Bummer Vacation\"' '\"That\\'s No Lady\"'\n",
            " '\"Squidtastic Voyage\"' '\"Hocus Pocus\"' '\"The Thing\"' '\"Rule of Dumb\"'\n",
            " '\"Driven to Tears\"' '\"Best Frenemies\"' '\"Born to Be Wild\"' '\"Squid Wood\"'\n",
            " '\"The Pink Purloiner\"' '\"The Gift of Gum\"' '\"Best Day Ever\"'\n",
            " '\"Night Light\"' '\"The Original Fry Cook\"'\n",
            " '[\\'\"Waiting\"\\', \\'\"Fungus Among Us\"\\']'\n",
            " '[\\'\"Rise and Shine\"\\', \\'\"Fungus Among Us\"\\']'\n",
            " '[\\'\"Rise and Shine\"\\', \\'\"Waiting\"\\']'\n",
            " '[\\'\"Boat Smarts\"\\', \\'\"Good Ol\\\\\\' Whatshisname\"\\']'\n",
            " '[\\'\"Spy Buddies\"\\', \\'\"Good Ol\\\\\\' Whatshisname\"\\']'\n",
            " '[\\'\"Spy Buddies\"\\', \\'\"Boat Smarts\"\\']' '\"Krabs à la Mode\"' '\"New Digs\"'\n",
            " '\"Bucket Sweet Bucket\"' '\"Roller Cowards\"' '\"Breath of Fresh Squidward\"'\n",
            " '\"To Love a Patty\"'\n",
            " '[\\'\"SpongeBob vs. The Patty Gadget\"\\', \\'\"Slimy Dancing\"\\']'\n",
            " '[\\'\"Money Talks\"\\', \\'\"Slimy Dancing\"\\']'\n",
            " '[\\'\"Money Talks\"\\', \\'\"SpongeBob vs. The Patty Gadget\"\\']'\n",
            " '\"Sing a Song of Patrick\"' '\"The Krusty Sponge\"'\n",
            " '[\\'\"The Donut of Shame\"\\', \\'\"The Krusty Plate\"\\']'\n",
            " '[\\'\"A Flea in Her Dome\"\\', \\'\"The Krusty Plate\"\\']'\n",
            " '[\\'\"A Flea in Her Dome\"\\', \\'\"The Donut of Shame\"\\']' '\"Le Big Switch\"'\n",
            " '\"Goo Goo Gas\"' '[\\'\"Pat No Pay\"\\', \\'\"BlackJack\"\\']'\n",
            " '[\\'\"Picture Day\"\\', \\'\"BlackJack\"\\']'\n",
            " '[\\'\"Picture Day\"\\', \\'\"Pat No Pay\"\\']' '\"Mermaid Man vs. SpongeBob\"'\n",
            " '\"Blackened Sponge\"' '\"To Save a Squirrel\"' '\"The Inmates of Summer\"'\n",
            " '\"The Battle of Bikini Bottom\"' '\"20,000 Patties Under the Sea\"'\n",
            " '\"SpongeHenge\"' '\"The Two Faces of Squidward\"' '\"Stanley S. SquarePants\"'\n",
            " '\"Banned in Bikini Bottom\"' '\"Krabby Road\"' '\"House Fancy\"'\n",
            " '\"Nautical Novice\"' '\"Penny Foolish\"' '\"Suction Cup Symphony\"'\n",
            " '\"Spongicus\"' '\"Gone\"' '\"Not Normal\"' '\"Slide Whistle Stooges\"'\n",
            " '\"The Splinter\"' '\"Sun Bleached\"' '\"A Life in a Day\"' '\"No Nose Knows\"'\n",
            " '\"Giant Squidward\"' '\"Plankton\\'s Regular\"' '\"Patty Caper\"'\n",
            " '\"The Krabby Kronicle\"' '\"Boating Buddies\"' '\"Grooming Gary\"'\n",
            " '\"The Slumber Party\"' '\"Choir Boys\"' '\"Porous Pockets\"' '\"The Card\"'\n",
            " '\"Krusty Krushers\"' '\"Ditchin\\'\"' '\"Dear Vikings\"' '\"Cephalopod Lodge\"'\n",
            " '\"Grandpappy the Pirate\"' '\"To SquarePants or Not to SquarePants\"'\n",
            " '\"Squid\\'s Visit\"' '\"Professor Squidward\"' '\"Shuffleboarding\"'\n",
            " '\"Komputer Overload\"' '\"Pet or Pests\"' '\"Overbooked\"' '\"Gullible Pants\"'\n",
            " '\"Toy Store of Doom\"' '\"No Hat for Pat\"' '\"Shell Shocked\"'\n",
            " '\"Sand Castles in the Sand\"' '\"Single Cell Anniversary\"'\n",
            " '\"Chum Bucket Supreme\"' '\"Chum Caverns\"' '\"Pineapple Fever\"'\n",
            " '\"I ♥ Dancing\"' '\"Tentacle-Vision\"' '\"Stuck in the Wringer\"'\n",
            " '\"Growth Spout\"' '\"The Inside Job\"'\n",
            " '\"Someone\\'s in the Kitchen with Sandy\"' '\"Model Sponge\"'\n",
            " '\"Greasy Buffoons\"' '\"A Pal for Gary\"' '\"Keep Bikini Bottom Beautiful\"'\n",
            " '\"Kracked Krabs\"' '\"Yours, Mine and Mine\"' '\"Squidward in Clarinetland\"'\n",
            " '\"The Curse of Bikini Bottom\"' '\"The Bad Guy Club for Villains\"'\n",
            " '\"Back to the Past\"' '\"Summer Job\"' '\"A Day Without Tears\"'\n",
            " '\"Gary in Love\"' '\"One Coarse Meal\"' '\"Rodeo Daze\"'\n",
            " '\"The Play\\'s the Thing\"' '\"The Cent of Money\"'\n",
            " '\"Gramma\\'s Secret Recipe\"' '\"Welcome to the Bikini Bottom Triangle\"'\n",
            " '\"The Monster Who Came to Bikini Bottom\"' '\"The Main Drain\"'\n",
            " '\"The Curse of the Hex\"' '\"Sponge-Cano!\"' '\"Trenchbillies\"'\n",
            " '\"Karate Star\"' '\"That Sinking Feeling\"' '\"Enchanted Tiki Dreams\"'\n",
            " '\"Buried in Time\"' '\"Earworm\"' '\"The Abrasive Side\"'\n",
            " '\"Shellback Shenanigans\"' '\"Hide and Then What Happens?\"'\n",
            " '\"Whelk Attack\"' '\"The Masterpiece\"' '\"Tunnel of Glove\"'\n",
            " '\"You Don\\'t Know Sponge\"' '\"The Wreck of the Mauna Loa\"' '\"Krusty Dogs\"'\n",
            " '\"Love That Squid\"' '\"New Fish in Town\"' '\"Perfect Chemistry\"'\n",
            " '\"Big Sister Sam\"' '\"The Other Patty\"' '\"Accidents Will Happen\"'\n",
            " '\"The Hot Shot\"' '\"Drive Thru\"' '\"Sentimental Sponge\"'\n",
            " '\"A Friendly Game\"' '\"Oral Report\"' '\"Squidward\\'s School for Grown-Ups\"'\n",
            " '\"The Googly Artiste\"' '\"Sweet and Sour Squid\"' '\"Walking the Plankton\"'\n",
            " '\"Patrick\\'s Staycation\"' '\"Mr. Krabs Takes a Vacation\"' '\"Mooncation\"'\n",
            " '\"Plankton\\'s Good Eye\"' '\"Mermaid Man Begins\"' '\"Pet Sitter Pat\"'\n",
            " '\"Barnacle Face\"' '\"Smoothe Jazz at Bikini Bottom\"'\n",
            " '\"House Sittin\\' for Sandy\"' '\"The Way of the Sponge\"'\n",
            " '\"Bubble Troubles\"' '\"Bubble Buddy Returns\"'\n",
            " '\"The Krabby Patty That Ate Bikini Bottom\"' '\"Fiasco!\"'\n",
            " '\"Restraining SpongeBob\"' '\"Planet of the Jellyfish\"'\n",
            " '\"Are You Happy Now?\"' '\"Home Sweet Rubble\"' '\"Free Samples\"'\n",
            " '\"InSPONGEiac\"' '\"Karen 2.0\"' '\"Glove World R.I.P.\"' '\"Face Freeze!\"'\n",
            " '\"Demolition Doofus\"' '\"Squiditis\"' '\"For Here or to Go\"' '\"Treats!\"'\n",
            " '\"Chum Fricassee\"' '\"Super Evil Aquatic Villain Team Up is Go!\"'\n",
            " '\"Move It or Lose It\"' '\"The Good Krabby Name\"' '\"Squirrel Record\"'\n",
            " '\"Extreme Spots\"' '\"Gary\\'s New Toy\"' '\"Patrick-Man!\"' '\"Squid Baby\"'\n",
            " '\"License to Milkshake\"' '\"Bumper to Bumper\"' '\"Little Yellow Book\"'\n",
            " '\"Squid Defense\"' '\"Eek, an Urchin!\"' '\"Evil Spatula\"' '\"Jailbreak!\"'\n",
            " '\"Plankton\\'s Pet\"' '\"Safe Deposit Krabs\"' '\"Séance Shméance\"'\n",
            " '\"Don\\'t Look Now\"' '\"Yeti Krabs\"' '\"Kenny the Cat\"' '\"Tutor Sauce\"'\n",
            " '\"Lost in Bikini Bottom\"' '\"The Executive Treatment\"' '\"Squid Plus One\"'\n",
            " '\"Pull Up a Barrel\"' '\"Company Picnic\"' '\"What\\'s Eating Patrick?\"'\n",
            " '\"Sanctuary!\"' '\"The Sewers of Bikini Bottom\"' '\"Patrick! The Game\"'\n",
            " '\"Larry\\'s Gym\"' '\"SpongeBob LongPants\"' '\"Married to Money\"'\n",
            " '\"The Fish Bowl\"' '\"Two Thumbs Down\"' '\"Mall Girl Pearl\"'\n",
            " '\"CopyBob DittoPants\"' '\"Sharks vs. Pods\"' '\"Lame and Fortune\"' '\"Sold!\"'\n",
            " '\"Bulletin Board\"' '\"Sandy\\'s Nutmare\"' '\"Snail Mail\"'\n",
            " '\"Food Con Castaways\"' '\"Salsa Imbecilicus\"' '\"Pineapple Invasion\"'\n",
            " '\"The Whole Tooth\"' '\"Mutiny on the Krusty\"' '\"Mermaid Pants\"'\n",
            " '\"Code Yellow\"' '\"Unreal Estate\"' '\"House Worming\"' '\"Mimic Madness\"'\n",
            " '\"Krusty Katering\"' '\"Snooze You Lose\"' '\"Plankton Gets the Boot\"'\n",
            " '\"SpongeBob\\'s Place\"' '\"Burst Your Bubble\"' '\"Life Insurance\"'\n",
            " '\"Trident Trouble\"' '\"Plankton Retires\"' '\"Sportz?\"'\n",
            " '\"The Incredible Shrinking Sponge\"' '\"Lost and Found\"' '\"The Getaway\"'\n",
            " '\"Out of the Picture\"' '\"Patrick\\'s Coupon\"' '\"Don\\'t Wake Patrick\"'\n",
            " '\"Feral Friends\"' '\"The Clam Whisperer\"' '\"Cave Dwelling Sponge\"'\n",
            " '\"The Check-Up\"' '\"Spot Returns\"' '\"There\\'s a Sponge in My Soup\"'\n",
            " '\"Spin the Bottle\"' '\"Larry the Floor Manager\"' '\"Man Ray Returns\"'\n",
            " '\"Stuck on the Roof\"' '\"No Pictures Please\"' '\"Teacher\\'s Pests\"'\n",
            " '\"Krabby Patty Creature Feature\"' '\"Bunny Hunt\"' '\"Sanitation Insanity\"'\n",
            " '\"Scavenger Pants\"' '\"Squid Noir\"' '\"Pat the Horse\"' '\"Cuddle E. Hugs\"'\n",
            " '\"Don\\'t Feed the Clowns\"' '\"Chatterbox Gary\"' '\"Old Man Patrick\"'\n",
            " '\"Drive Happy\"' '\"Grandmum\\'s the Word\"' '\"Fun-Sized Friends\"'\n",
            " '\"Moving Bubble Bass\"' '\"Doodle Dimension\"' '\"Bottle Burglars\"'\n",
            " '\"High Sea Diving\"' '\"Ink Lemonade\"' '\"My Leg!\"' '\"Shopping List\"'\n",
            " '\"Mustard O\\' Mine\"' '\"Krusty Kleaners\"' '\"Whale Watching\"' '\"ChefBob\"'\n",
            " '\"Patnocchio\"' '\"Library Cards\"' '\"Plankton Paranoia\"' '\"Surf N\\' Turf\"'\n",
            " '\"Call the Cops\"' '\"Karen\\'s Virus\"' '\"Appointment TV\"'\n",
            " '\"The Night Patty\"' '\"The Grill is Gone\"' '\"Girls\\' Night Out\"'\n",
            " '\"Bubbletown\"' '\"The String\"' '\"Squirrel Jelly\"' '\"Gary &amp; Spot\"'\n",
            " '\"FarmerBob\"' '\"The Ballad of Filthy Muck\"' '\"The Nitwitting\"'\n",
            " '\"Pineapple RV\"' '\"The Krusty Slammer\"' '\"King Plankton\"'\n",
            " '\"Gary\\'s Got Legs\"' '\"Stormy Weather\"' '\"Plankton\\'s Old Chum\"'\n",
            " '\"One Trick Sponge\"' '\"Swamp Mates\"' '\"Squid\\'s on a Bus\"'\n",
            " '\"The Krusty Bucket\"' '\"Insecurity Guards\"' '\"Sandy\\'s Nutty Nieces\"'\n",
            " '\"Karen\\'s Baby\"' '\"Broken Alarm\"' '\"Senior Discount\"' '\"Shell Games\"'\n",
            " '\"Dirty Bubble Returns\"' '\"Mind the Gap\"' '\"Biddy Sitting\"'\n",
            " '\"Jolly Lodgers\"' '\"SpongeBob\\'s Bad Habit\"' '\"SpongeBob in RandomLand\"'\n",
            " '\"Breakin\\'\"' '\"Handemonium\"' '\"The Goofy Newbie\"' '\"Boss for a Day\"'\n",
            " '\"My Two Krabses\"' '\"The Ghost of Plankton\"' '\"Pat Hearts Squid\"'\n",
            " '\"Knock Knock, Who\\'s There?\"' '\"Hiccup Plague\"' '\"Lighthouse Louie\"'\n",
            " '\"The Hankering\"' '\"A Cabin in the Kelp\"' '\"Kwarantined Krab\"'\n",
            " '\"Who R Zoo?\"' '\"Patrick\\'s Tantrum\"' '\"Plankton\\'s Intern\"'\n",
            " '\"Kooky Cooks\"' '\"Bubble Bass\\'s Tab\"' '\"Dream Hoppers\"'\n",
            " '\"Krusty Koncessionaires\"' '\"Lockdown for Love\"' '\"A Place for Pets\"'\n",
            " '\"Squidward\\'s Sick Daze\"' '\"Under the Small Top\"' '\"Pat the Dog\"'\n",
            " '\"Goofy Scoopers\"' '\"C.H.U.M.S\"' '\"Something Narwhal This Way Comes\"'\n",
            " '\"There Will Be Grease\"' '\"Potato Puff\"' '\"Sea-Man Sponge Haters Club\"'\n",
            " '\"The Big Bad Bubble Bass\"' '\"Upturn Girls\"' '\"Food PBFFT! Truck\"'\n",
            " '\"Patrick the Mailman\"' '\"Say Awww!\"' '\"Plane to Sea\"'\n",
            " '\"Captain Pipsqueak\"' '\"Slappy Daze\"' '\"Squidferatu\"'\n",
            " '[\\'\"You\\\\\\'re Going to Pay...Phone\"\\', \\'\"A Skin Wrinkle in Time\"\\']'\n",
            " '[\\'\"Welcome to Binary Bottom\"\\', \\'\"A Skin Wrinkle in Time\"\\']'\n",
            " '[\\'\"Welcome to Binary Bottom\"\\', \\'\"You\\\\\\'re Going to Pay...Phone\"\\']'\n",
            " '\"Wallhalla\"' '\"Abandon Twits\"' '\"Karen for Spot\"' '\"Salty Sponge\"'\n",
            " '\"Ain\\'t That the Tooth\"' '\"Arbor Day Disarray\"' '\"Yellow Pavement\"'\n",
            " '\"Ma and Pa\\'s Big Hurrah\"' '\"SpongeBob on Parade\"' '\"The Flower Plot\"'\n",
            " '\"Ride Patrick Ride\"' '\"Delivery to Monster Island\"'\n",
            " '\"Sir Urchin and Snail Fail\"' '\"Hot Crossed Nuts\"' '\"Mandatory Music\"'\n",
            " '\"Friendiversary\"' '\"Plankton and the Beanstalk\"' '\"Dopey Dick\"'\n",
            " '\"FUN-Believable\"' '\"My Friend Patty\"' '\"Gary\\'s Playhouse\"'\n",
            " '\"Spatula of the Heavens\"' '\"The Goobfather\"' '\"Swimming Fools\"'\n",
            " '\"Allergy Attack!\"' '\"SquidBird\"' '\"Sandy, Help Us!\"' '\"Big Top Flop\"'\n",
            " '\"Buff for Puff\"' '\"Single-Celled Defense\"' '\"SpongeChovy\"'\n",
            " '\"We ♥ Hoops\"' '\"Squidiot Box\"' '\"BassWard\"'\n",
            " '\"Blood is Thicker Than Grease\"' '\"Pet the Rock\"' '\"Momageddon\"'\n",
            " '\"Necro-Nom-Nom-Nom-I-Con\"' '\"Tango Tangle\"']\n"
          ]
        }
      ]
    },
    {
      "cell_type": "code",
      "source": [
        "df['sister_episode(s)'] = df['sister_episode(s)'].fillna(\"no_guest\")\n",
        "print(df['sister_episode(s)'].isna().sum())"
      ],
      "metadata": {
        "colab": {
          "base_uri": "https://localhost:8080/",
          "height": 0
        },
        "id": "OApMAVkN1Ojw",
        "outputId": "fa6fe3f3-b91f-4bcb-e2a9-e2ff1b562cd9"
      },
      "execution_count": 22,
      "outputs": [
        {
          "output_type": "stream",
          "name": "stdout",
          "text": [
            "0\n"
          ]
        }
      ]
    },
    {
      "cell_type": "markdown",
      "source": [
        "### Clean up Airdate:"
      ],
      "metadata": {
        "id": "hF0fVxLGg7sR"
      }
    },
    {
      "cell_type": "markdown",
      "source": [
        "The airtime for the first episode is May 1, 1999\n",
        "\n",
        "(Not sure why it wasn't included)"
      ],
      "metadata": {
        "id": "WaDho0rJlcDx"
      }
    },
    {
      "cell_type": "code",
      "source": [
        "df['airdate']=df['airdate'].replace('1997/1998', 'May 1, 1999')\n",
        "df.head()"
      ],
      "metadata": {
        "colab": {
          "base_uri": "https://localhost:8080/",
          "height": 637
        },
        "collapsed": true,
        "id": "NSQ6-oAWg-V0",
        "outputId": "00a458ab-ac84-40ab-8338-8f63c5420622"
      },
      "execution_count": 23,
      "outputs": [
        {
          "output_type": "execute_result",
          "data": {
            "text/plain": [
              "         airdate                                   animation  \\\n",
              "0    May 1, 1999                                  Alan Smart   \n",
              "1    May 1, 1999  ['Fred Miller', 'Tom Yasumi (uncredited)']   \n",
              "2    May 1, 1999                                  Tom Yasumi   \n",
              "3  July 17, 1999                                  Tom Yasumi   \n",
              "4  July 17, 1999                            Edgar Larrazábal   \n",
              "\n",
              "  animation_supervisor                                  copyright_year  \\\n",
              "0                  NaN  ['1997 (1997 version)', '1999 (1999 version)']   \n",
              "1                  NaN                                            1999   \n",
              "2                  NaN                                            1999   \n",
              "3                  NaN                                            1999   \n",
              "4                  NaN                                            1999   \n",
              "\n",
              "                    creative episode_№                         guest(s)  \\\n",
              "0  Derek Drymon (uncredited)        1a                              NaN   \n",
              "1  Derek Drymon (uncredited)        1b                              NaN   \n",
              "2               Derek Drymon        1c                              NaN   \n",
              "3               Derek Drymon        2a                              NaN   \n",
              "4               Derek Drymon        2b  Jay Lender as Chef (uncredited)   \n",
              "\n",
              "  line_producer main                   next  ...     storyboard_artist(s)  \\\n",
              "0           NaN  NaN          \"Reef Blower\"  ...             Derek Drymon   \n",
              "1           NaN  NaN  \"Tea at the Treedome\"  ...  Jay Lender (uncredited)   \n",
              "2           NaN  NaN          \"Bubblestand\"  ...              Mark O'Hare   \n",
              "3           NaN  NaN         \"Ripped Pants\"  ...               Erik Wiese   \n",
              "4           NaN  NaN         \"Jellyfishing\"  ...              Mark O'Hare   \n",
              "\n",
              "  supervising supervising_producer(s)  technical u.s._premiere_time_(et)  \\\n",
              "0         NaN                     NaN        NaN                 9:30 pm   \n",
              "1         NaN                     NaN        NaN                 9:38 pm   \n",
              "2         NaN                     NaN        NaN                 9:45 pm   \n",
              "3         NaN                     NaN        NaN                10:00 am   \n",
              "4         NaN                     NaN        NaN                10:15 am   \n",
              "\n",
              "  viewership                                          writer(s)  \\\n",
              "0       2.96  ['Stephen Hillenburg', 'Derek Drymon', 'Tim Hi...   \n",
              "1       2.96  ['Stephen Hillenburg', 'Derek Drymon', 'Tim Hi...   \n",
              "2       2.96   ['Peter Burns', 'Doug Lawrence', 'Paul Tibbitt']   \n",
              "3       2.51  ['Ennio Torresan', 'Erik Wiese', 'Stephen Hill...   \n",
              "4       2.51                    ['Paul Tibbitt', 'Peter Burns']   \n",
              "\n",
              "                                          characters                title  \\\n",
              "0  French Narrator, Sea urchins, SpongeBob Square...          Help Wanted   \n",
              "1  SpongeBob SquarePants, Squidward Tentacles, Re...          Reef Blower   \n",
              "2  SpongeBob SquarePants, Jellyfish, Lavender jel...  Tea at the Treedome   \n",
              "3  SpongeBob SquarePants, Scallop, Squidward Tent...          Bubblestand   \n",
              "4  French Narrator, SpongeBob SquarePants, Sponge...         Ripped Pants   \n",
              "\n",
              "  running_time_minutes  \n",
              "0             8.266667  \n",
              "1             2.833333  \n",
              "2            11.000000  \n",
              "3            11.066667  \n",
              "4            11.033333  \n",
              "\n",
              "[5 rows x 26 columns]"
            ],
            "text/html": [
              "\n",
              "  <div id=\"df-563dd7c1-a0b8-4c66-96ef-8cfa9e6f341f\" class=\"colab-df-container\">\n",
              "    <div>\n",
              "<style scoped>\n",
              "    .dataframe tbody tr th:only-of-type {\n",
              "        vertical-align: middle;\n",
              "    }\n",
              "\n",
              "    .dataframe tbody tr th {\n",
              "        vertical-align: top;\n",
              "    }\n",
              "\n",
              "    .dataframe thead th {\n",
              "        text-align: right;\n",
              "    }\n",
              "</style>\n",
              "<table border=\"1\" class=\"dataframe\">\n",
              "  <thead>\n",
              "    <tr style=\"text-align: right;\">\n",
              "      <th></th>\n",
              "      <th>airdate</th>\n",
              "      <th>animation</th>\n",
              "      <th>animation_supervisor</th>\n",
              "      <th>copyright_year</th>\n",
              "      <th>creative</th>\n",
              "      <th>episode_№</th>\n",
              "      <th>guest(s)</th>\n",
              "      <th>line_producer</th>\n",
              "      <th>main</th>\n",
              "      <th>next</th>\n",
              "      <th>...</th>\n",
              "      <th>storyboard_artist(s)</th>\n",
              "      <th>supervising</th>\n",
              "      <th>supervising_producer(s)</th>\n",
              "      <th>technical</th>\n",
              "      <th>u.s._premiere_time_(et)</th>\n",
              "      <th>viewership</th>\n",
              "      <th>writer(s)</th>\n",
              "      <th>characters</th>\n",
              "      <th>title</th>\n",
              "      <th>running_time_minutes</th>\n",
              "    </tr>\n",
              "  </thead>\n",
              "  <tbody>\n",
              "    <tr>\n",
              "      <th>0</th>\n",
              "      <td>May 1, 1999</td>\n",
              "      <td>Alan Smart</td>\n",
              "      <td>NaN</td>\n",
              "      <td>['1997 (1997 version)', '1999 (1999 version)']</td>\n",
              "      <td>Derek Drymon (uncredited)</td>\n",
              "      <td>1a</td>\n",
              "      <td>NaN</td>\n",
              "      <td>NaN</td>\n",
              "      <td>NaN</td>\n",
              "      <td>\"Reef Blower\"</td>\n",
              "      <td>...</td>\n",
              "      <td>Derek Drymon</td>\n",
              "      <td>NaN</td>\n",
              "      <td>NaN</td>\n",
              "      <td>NaN</td>\n",
              "      <td>9:30 pm</td>\n",
              "      <td>2.96</td>\n",
              "      <td>['Stephen Hillenburg', 'Derek Drymon', 'Tim Hi...</td>\n",
              "      <td>French Narrator, Sea urchins, SpongeBob Square...</td>\n",
              "      <td>Help Wanted</td>\n",
              "      <td>8.266667</td>\n",
              "    </tr>\n",
              "    <tr>\n",
              "      <th>1</th>\n",
              "      <td>May 1, 1999</td>\n",
              "      <td>['Fred Miller', 'Tom Yasumi (uncredited)']</td>\n",
              "      <td>NaN</td>\n",
              "      <td>1999</td>\n",
              "      <td>Derek Drymon (uncredited)</td>\n",
              "      <td>1b</td>\n",
              "      <td>NaN</td>\n",
              "      <td>NaN</td>\n",
              "      <td>NaN</td>\n",
              "      <td>\"Tea at the Treedome\"</td>\n",
              "      <td>...</td>\n",
              "      <td>Jay Lender (uncredited)</td>\n",
              "      <td>NaN</td>\n",
              "      <td>NaN</td>\n",
              "      <td>NaN</td>\n",
              "      <td>9:38 pm</td>\n",
              "      <td>2.96</td>\n",
              "      <td>['Stephen Hillenburg', 'Derek Drymon', 'Tim Hi...</td>\n",
              "      <td>SpongeBob SquarePants, Squidward Tentacles, Re...</td>\n",
              "      <td>Reef Blower</td>\n",
              "      <td>2.833333</td>\n",
              "    </tr>\n",
              "    <tr>\n",
              "      <th>2</th>\n",
              "      <td>May 1, 1999</td>\n",
              "      <td>Tom Yasumi</td>\n",
              "      <td>NaN</td>\n",
              "      <td>1999</td>\n",
              "      <td>Derek Drymon</td>\n",
              "      <td>1c</td>\n",
              "      <td>NaN</td>\n",
              "      <td>NaN</td>\n",
              "      <td>NaN</td>\n",
              "      <td>\"Bubblestand\"</td>\n",
              "      <td>...</td>\n",
              "      <td>Mark O'Hare</td>\n",
              "      <td>NaN</td>\n",
              "      <td>NaN</td>\n",
              "      <td>NaN</td>\n",
              "      <td>9:45 pm</td>\n",
              "      <td>2.96</td>\n",
              "      <td>['Peter Burns', 'Doug Lawrence', 'Paul Tibbitt']</td>\n",
              "      <td>SpongeBob SquarePants, Jellyfish, Lavender jel...</td>\n",
              "      <td>Tea at the Treedome</td>\n",
              "      <td>11.000000</td>\n",
              "    </tr>\n",
              "    <tr>\n",
              "      <th>3</th>\n",
              "      <td>July 17, 1999</td>\n",
              "      <td>Tom Yasumi</td>\n",
              "      <td>NaN</td>\n",
              "      <td>1999</td>\n",
              "      <td>Derek Drymon</td>\n",
              "      <td>2a</td>\n",
              "      <td>NaN</td>\n",
              "      <td>NaN</td>\n",
              "      <td>NaN</td>\n",
              "      <td>\"Ripped Pants\"</td>\n",
              "      <td>...</td>\n",
              "      <td>Erik Wiese</td>\n",
              "      <td>NaN</td>\n",
              "      <td>NaN</td>\n",
              "      <td>NaN</td>\n",
              "      <td>10:00 am</td>\n",
              "      <td>2.51</td>\n",
              "      <td>['Ennio Torresan', 'Erik Wiese', 'Stephen Hill...</td>\n",
              "      <td>SpongeBob SquarePants, Scallop, Squidward Tent...</td>\n",
              "      <td>Bubblestand</td>\n",
              "      <td>11.066667</td>\n",
              "    </tr>\n",
              "    <tr>\n",
              "      <th>4</th>\n",
              "      <td>July 17, 1999</td>\n",
              "      <td>Edgar Larrazábal</td>\n",
              "      <td>NaN</td>\n",
              "      <td>1999</td>\n",
              "      <td>Derek Drymon</td>\n",
              "      <td>2b</td>\n",
              "      <td>Jay Lender as Chef (uncredited)</td>\n",
              "      <td>NaN</td>\n",
              "      <td>NaN</td>\n",
              "      <td>\"Jellyfishing\"</td>\n",
              "      <td>...</td>\n",
              "      <td>Mark O'Hare</td>\n",
              "      <td>NaN</td>\n",
              "      <td>NaN</td>\n",
              "      <td>NaN</td>\n",
              "      <td>10:15 am</td>\n",
              "      <td>2.51</td>\n",
              "      <td>['Paul Tibbitt', 'Peter Burns']</td>\n",
              "      <td>French Narrator, SpongeBob SquarePants, Sponge...</td>\n",
              "      <td>Ripped Pants</td>\n",
              "      <td>11.033333</td>\n",
              "    </tr>\n",
              "  </tbody>\n",
              "</table>\n",
              "<p>5 rows × 26 columns</p>\n",
              "</div>\n",
              "    <div class=\"colab-df-buttons\">\n",
              "\n",
              "  <div class=\"colab-df-container\">\n",
              "    <button class=\"colab-df-convert\" onclick=\"convertToInteractive('df-563dd7c1-a0b8-4c66-96ef-8cfa9e6f341f')\"\n",
              "            title=\"Convert this dataframe to an interactive table.\"\n",
              "            style=\"display:none;\">\n",
              "\n",
              "  <svg xmlns=\"http://www.w3.org/2000/svg\" height=\"24px\" viewBox=\"0 -960 960 960\">\n",
              "    <path d=\"M120-120v-720h720v720H120Zm60-500h600v-160H180v160Zm220 220h160v-160H400v160Zm0 220h160v-160H400v160ZM180-400h160v-160H180v160Zm440 0h160v-160H620v160ZM180-180h160v-160H180v160Zm440 0h160v-160H620v160Z\"/>\n",
              "  </svg>\n",
              "    </button>\n",
              "\n",
              "  <style>\n",
              "    .colab-df-container {\n",
              "      display:flex;\n",
              "      gap: 12px;\n",
              "    }\n",
              "\n",
              "    .colab-df-convert {\n",
              "      background-color: #E8F0FE;\n",
              "      border: none;\n",
              "      border-radius: 50%;\n",
              "      cursor: pointer;\n",
              "      display: none;\n",
              "      fill: #1967D2;\n",
              "      height: 32px;\n",
              "      padding: 0 0 0 0;\n",
              "      width: 32px;\n",
              "    }\n",
              "\n",
              "    .colab-df-convert:hover {\n",
              "      background-color: #E2EBFA;\n",
              "      box-shadow: 0px 1px 2px rgba(60, 64, 67, 0.3), 0px 1px 3px 1px rgba(60, 64, 67, 0.15);\n",
              "      fill: #174EA6;\n",
              "    }\n",
              "\n",
              "    .colab-df-buttons div {\n",
              "      margin-bottom: 4px;\n",
              "    }\n",
              "\n",
              "    [theme=dark] .colab-df-convert {\n",
              "      background-color: #3B4455;\n",
              "      fill: #D2E3FC;\n",
              "    }\n",
              "\n",
              "    [theme=dark] .colab-df-convert:hover {\n",
              "      background-color: #434B5C;\n",
              "      box-shadow: 0px 1px 3px 1px rgba(0, 0, 0, 0.15);\n",
              "      filter: drop-shadow(0px 1px 2px rgba(0, 0, 0, 0.3));\n",
              "      fill: #FFFFFF;\n",
              "    }\n",
              "  </style>\n",
              "\n",
              "    <script>\n",
              "      const buttonEl =\n",
              "        document.querySelector('#df-563dd7c1-a0b8-4c66-96ef-8cfa9e6f341f button.colab-df-convert');\n",
              "      buttonEl.style.display =\n",
              "        google.colab.kernel.accessAllowed ? 'block' : 'none';\n",
              "\n",
              "      async function convertToInteractive(key) {\n",
              "        const element = document.querySelector('#df-563dd7c1-a0b8-4c66-96ef-8cfa9e6f341f');\n",
              "        const dataTable =\n",
              "          await google.colab.kernel.invokeFunction('convertToInteractive',\n",
              "                                                    [key], {});\n",
              "        if (!dataTable) return;\n",
              "\n",
              "        const docLinkHtml = 'Like what you see? Visit the ' +\n",
              "          '<a target=\"_blank\" href=https://colab.research.google.com/notebooks/data_table.ipynb>data table notebook</a>'\n",
              "          + ' to learn more about interactive tables.';\n",
              "        element.innerHTML = '';\n",
              "        dataTable['output_type'] = 'display_data';\n",
              "        await google.colab.output.renderOutput(dataTable, element);\n",
              "        const docLink = document.createElement('div');\n",
              "        docLink.innerHTML = docLinkHtml;\n",
              "        element.appendChild(docLink);\n",
              "      }\n",
              "    </script>\n",
              "  </div>\n",
              "\n",
              "\n",
              "<div id=\"df-99bfbf6c-f58d-4010-9ff5-93bb4c885e09\">\n",
              "  <button class=\"colab-df-quickchart\" onclick=\"quickchart('df-99bfbf6c-f58d-4010-9ff5-93bb4c885e09')\"\n",
              "            title=\"Suggest charts\"\n",
              "            style=\"display:none;\">\n",
              "\n",
              "<svg xmlns=\"http://www.w3.org/2000/svg\" height=\"24px\"viewBox=\"0 0 24 24\"\n",
              "     width=\"24px\">\n",
              "    <g>\n",
              "        <path d=\"M19 3H5c-1.1 0-2 .9-2 2v14c0 1.1.9 2 2 2h14c1.1 0 2-.9 2-2V5c0-1.1-.9-2-2-2zM9 17H7v-7h2v7zm4 0h-2V7h2v10zm4 0h-2v-4h2v4z\"/>\n",
              "    </g>\n",
              "</svg>\n",
              "  </button>\n",
              "\n",
              "<style>\n",
              "  .colab-df-quickchart {\n",
              "      --bg-color: #E8F0FE;\n",
              "      --fill-color: #1967D2;\n",
              "      --hover-bg-color: #E2EBFA;\n",
              "      --hover-fill-color: #174EA6;\n",
              "      --disabled-fill-color: #AAA;\n",
              "      --disabled-bg-color: #DDD;\n",
              "  }\n",
              "\n",
              "  [theme=dark] .colab-df-quickchart {\n",
              "      --bg-color: #3B4455;\n",
              "      --fill-color: #D2E3FC;\n",
              "      --hover-bg-color: #434B5C;\n",
              "      --hover-fill-color: #FFFFFF;\n",
              "      --disabled-bg-color: #3B4455;\n",
              "      --disabled-fill-color: #666;\n",
              "  }\n",
              "\n",
              "  .colab-df-quickchart {\n",
              "    background-color: var(--bg-color);\n",
              "    border: none;\n",
              "    border-radius: 50%;\n",
              "    cursor: pointer;\n",
              "    display: none;\n",
              "    fill: var(--fill-color);\n",
              "    height: 32px;\n",
              "    padding: 0;\n",
              "    width: 32px;\n",
              "  }\n",
              "\n",
              "  .colab-df-quickchart:hover {\n",
              "    background-color: var(--hover-bg-color);\n",
              "    box-shadow: 0 1px 2px rgba(60, 64, 67, 0.3), 0 1px 3px 1px rgba(60, 64, 67, 0.15);\n",
              "    fill: var(--button-hover-fill-color);\n",
              "  }\n",
              "\n",
              "  .colab-df-quickchart-complete:disabled,\n",
              "  .colab-df-quickchart-complete:disabled:hover {\n",
              "    background-color: var(--disabled-bg-color);\n",
              "    fill: var(--disabled-fill-color);\n",
              "    box-shadow: none;\n",
              "  }\n",
              "\n",
              "  .colab-df-spinner {\n",
              "    border: 2px solid var(--fill-color);\n",
              "    border-color: transparent;\n",
              "    border-bottom-color: var(--fill-color);\n",
              "    animation:\n",
              "      spin 1s steps(1) infinite;\n",
              "  }\n",
              "\n",
              "  @keyframes spin {\n",
              "    0% {\n",
              "      border-color: transparent;\n",
              "      border-bottom-color: var(--fill-color);\n",
              "      border-left-color: var(--fill-color);\n",
              "    }\n",
              "    20% {\n",
              "      border-color: transparent;\n",
              "      border-left-color: var(--fill-color);\n",
              "      border-top-color: var(--fill-color);\n",
              "    }\n",
              "    30% {\n",
              "      border-color: transparent;\n",
              "      border-left-color: var(--fill-color);\n",
              "      border-top-color: var(--fill-color);\n",
              "      border-right-color: var(--fill-color);\n",
              "    }\n",
              "    40% {\n",
              "      border-color: transparent;\n",
              "      border-right-color: var(--fill-color);\n",
              "      border-top-color: var(--fill-color);\n",
              "    }\n",
              "    60% {\n",
              "      border-color: transparent;\n",
              "      border-right-color: var(--fill-color);\n",
              "    }\n",
              "    80% {\n",
              "      border-color: transparent;\n",
              "      border-right-color: var(--fill-color);\n",
              "      border-bottom-color: var(--fill-color);\n",
              "    }\n",
              "    90% {\n",
              "      border-color: transparent;\n",
              "      border-bottom-color: var(--fill-color);\n",
              "    }\n",
              "  }\n",
              "</style>\n",
              "\n",
              "  <script>\n",
              "    async function quickchart(key) {\n",
              "      const quickchartButtonEl =\n",
              "        document.querySelector('#' + key + ' button');\n",
              "      quickchartButtonEl.disabled = true;  // To prevent multiple clicks.\n",
              "      quickchartButtonEl.classList.add('colab-df-spinner');\n",
              "      try {\n",
              "        const charts = await google.colab.kernel.invokeFunction(\n",
              "            'suggestCharts', [key], {});\n",
              "      } catch (error) {\n",
              "        console.error('Error during call to suggestCharts:', error);\n",
              "      }\n",
              "      quickchartButtonEl.classList.remove('colab-df-spinner');\n",
              "      quickchartButtonEl.classList.add('colab-df-quickchart-complete');\n",
              "    }\n",
              "    (() => {\n",
              "      let quickchartButtonEl =\n",
              "        document.querySelector('#df-99bfbf6c-f58d-4010-9ff5-93bb4c885e09 button');\n",
              "      quickchartButtonEl.style.display =\n",
              "        google.colab.kernel.accessAllowed ? 'block' : 'none';\n",
              "    })();\n",
              "  </script>\n",
              "</div>\n",
              "\n",
              "    </div>\n",
              "  </div>\n"
            ],
            "application/vnd.google.colaboratory.intrinsic+json": {
              "type": "dataframe",
              "variable_name": "df"
            }
          },
          "metadata": {},
          "execution_count": 23
        }
      ]
    },
    {
      "cell_type": "code",
      "source": [
        "df['airdate']=pd.to_datetime(df['airdate'])\n",
        "df.info()"
      ],
      "metadata": {
        "colab": {
          "base_uri": "https://localhost:8080/",
          "height": 0
        },
        "collapsed": true,
        "id": "54xY219IluGh",
        "outputId": "c614ec7f-e453-4051-9109-cbb1aa905b10"
      },
      "execution_count": 24,
      "outputs": [
        {
          "output_type": "stream",
          "name": "stdout",
          "text": [
            "<class 'pandas.core.frame.DataFrame'>\n",
            "Index: 572 entries, 0 to 572\n",
            "Data columns (total 26 columns):\n",
            " #   Column                   Non-Null Count  Dtype         \n",
            "---  ------                   --------------  -----         \n",
            " 0   airdate                  572 non-null    datetime64[ns]\n",
            " 1   animation                561 non-null    object        \n",
            " 2   animation_supervisor     2 non-null      object        \n",
            " 3   copyright_year           572 non-null    object        \n",
            " 4   creative                 329 non-null    object        \n",
            " 5   episode_№                572 non-null    object        \n",
            " 6   guest(s)                 189 non-null    object        \n",
            " 7   line_producer            57 non-null     object        \n",
            " 8   main                     21 non-null     object        \n",
            " 9   next                     572 non-null    object        \n",
            " 10  previous                 571 non-null    object        \n",
            " 11  production_code          572 non-null    object        \n",
            " 12  running_time             572 non-null    object        \n",
            " 13  season_№                 572 non-null    int64         \n",
            " 14  sister_episode(s)        572 non-null    object        \n",
            " 15  storyboard               468 non-null    object        \n",
            " 16  storyboard_artist(s)     210 non-null    object        \n",
            " 17  supervising              218 non-null    object        \n",
            " 18  supervising_producer(s)  446 non-null    object        \n",
            " 19  technical                39 non-null     object        \n",
            " 20  u.s._premiere_time_(et)  571 non-null    object        \n",
            " 21  viewership               572 non-null    float64       \n",
            " 22  writer(s)                572 non-null    object        \n",
            " 23  characters               572 non-null    object        \n",
            " 24  title                    572 non-null    object        \n",
            " 25  running_time_minutes     572 non-null    float64       \n",
            "dtypes: datetime64[ns](1), float64(2), int64(1), object(22)\n",
            "memory usage: 120.7+ KB\n"
          ]
        }
      ]
    },
    {
      "cell_type": "markdown",
      "source": [
        "Change the airdate to years so we can easily graph them."
      ],
      "metadata": {
        "id": "i6QULa4kmQur"
      }
    },
    {
      "cell_type": "code",
      "source": [
        "df['year'] = df['airdate'].dt.year\n",
        "df['year']"
      ],
      "metadata": {
        "colab": {
          "base_uri": "https://localhost:8080/",
          "height": 458
        },
        "id": "8iOr0LsGmN37",
        "outputId": "ef4cf31b-b2ee-4338-e9b8-e1b0742810b6"
      },
      "execution_count": 25,
      "outputs": [
        {
          "output_type": "execute_result",
          "data": {
            "text/plain": [
              "0      1999\n",
              "1      1999\n",
              "2      1999\n",
              "3      1999\n",
              "4      1999\n",
              "       ... \n",
              "568    2024\n",
              "569    2024\n",
              "570    2024\n",
              "571    2024\n",
              "572    2024\n",
              "Name: year, Length: 572, dtype: int32"
            ],
            "text/html": [
              "<div>\n",
              "<style scoped>\n",
              "    .dataframe tbody tr th:only-of-type {\n",
              "        vertical-align: middle;\n",
              "    }\n",
              "\n",
              "    .dataframe tbody tr th {\n",
              "        vertical-align: top;\n",
              "    }\n",
              "\n",
              "    .dataframe thead th {\n",
              "        text-align: right;\n",
              "    }\n",
              "</style>\n",
              "<table border=\"1\" class=\"dataframe\">\n",
              "  <thead>\n",
              "    <tr style=\"text-align: right;\">\n",
              "      <th></th>\n",
              "      <th>year</th>\n",
              "    </tr>\n",
              "  </thead>\n",
              "  <tbody>\n",
              "    <tr>\n",
              "      <th>0</th>\n",
              "      <td>1999</td>\n",
              "    </tr>\n",
              "    <tr>\n",
              "      <th>1</th>\n",
              "      <td>1999</td>\n",
              "    </tr>\n",
              "    <tr>\n",
              "      <th>2</th>\n",
              "      <td>1999</td>\n",
              "    </tr>\n",
              "    <tr>\n",
              "      <th>3</th>\n",
              "      <td>1999</td>\n",
              "    </tr>\n",
              "    <tr>\n",
              "      <th>4</th>\n",
              "      <td>1999</td>\n",
              "    </tr>\n",
              "    <tr>\n",
              "      <th>...</th>\n",
              "      <td>...</td>\n",
              "    </tr>\n",
              "    <tr>\n",
              "      <th>568</th>\n",
              "      <td>2024</td>\n",
              "    </tr>\n",
              "    <tr>\n",
              "      <th>569</th>\n",
              "      <td>2024</td>\n",
              "    </tr>\n",
              "    <tr>\n",
              "      <th>570</th>\n",
              "      <td>2024</td>\n",
              "    </tr>\n",
              "    <tr>\n",
              "      <th>571</th>\n",
              "      <td>2024</td>\n",
              "    </tr>\n",
              "    <tr>\n",
              "      <th>572</th>\n",
              "      <td>2024</td>\n",
              "    </tr>\n",
              "  </tbody>\n",
              "</table>\n",
              "<p>572 rows × 1 columns</p>\n",
              "</div><br><label><b>dtype:</b> int32</label>"
            ]
          },
          "metadata": {},
          "execution_count": 25
        }
      ]
    },
    {
      "cell_type": "markdown",
      "source": [
        "### Clean up guest appearance:\n",
        "\n",
        "(We are concerned if any guest has made an appearance or not)"
      ],
      "metadata": {
        "id": "GMlKPn4tg-kU"
      }
    },
    {
      "cell_type": "code",
      "source": [
        "df['guest(s)']=df['guest(s)'].fillna('no_guest')\n",
        "df['guest(s)']=df['guest(s)'].apply(lambda x: 'guest' if x != 'no_guest' else x)\n",
        "df['guest(s)']"
      ],
      "metadata": {
        "colab": {
          "base_uri": "https://localhost:8080/",
          "height": 458
        },
        "id": "jAUbq1fjl7aE",
        "outputId": "68d9ff57-82b2-412b-9060-761ce4cc4c21"
      },
      "execution_count": 26,
      "outputs": [
        {
          "output_type": "execute_result",
          "data": {
            "text/plain": [
              "0      no_guest\n",
              "1      no_guest\n",
              "2      no_guest\n",
              "3      no_guest\n",
              "4         guest\n",
              "         ...   \n",
              "568       guest\n",
              "569    no_guest\n",
              "570       guest\n",
              "571       guest\n",
              "572    no_guest\n",
              "Name: guest(s), Length: 572, dtype: object"
            ],
            "text/html": [
              "<div>\n",
              "<style scoped>\n",
              "    .dataframe tbody tr th:only-of-type {\n",
              "        vertical-align: middle;\n",
              "    }\n",
              "\n",
              "    .dataframe tbody tr th {\n",
              "        vertical-align: top;\n",
              "    }\n",
              "\n",
              "    .dataframe thead th {\n",
              "        text-align: right;\n",
              "    }\n",
              "</style>\n",
              "<table border=\"1\" class=\"dataframe\">\n",
              "  <thead>\n",
              "    <tr style=\"text-align: right;\">\n",
              "      <th></th>\n",
              "      <th>guest(s)</th>\n",
              "    </tr>\n",
              "  </thead>\n",
              "  <tbody>\n",
              "    <tr>\n",
              "      <th>0</th>\n",
              "      <td>no_guest</td>\n",
              "    </tr>\n",
              "    <tr>\n",
              "      <th>1</th>\n",
              "      <td>no_guest</td>\n",
              "    </tr>\n",
              "    <tr>\n",
              "      <th>2</th>\n",
              "      <td>no_guest</td>\n",
              "    </tr>\n",
              "    <tr>\n",
              "      <th>3</th>\n",
              "      <td>no_guest</td>\n",
              "    </tr>\n",
              "    <tr>\n",
              "      <th>4</th>\n",
              "      <td>guest</td>\n",
              "    </tr>\n",
              "    <tr>\n",
              "      <th>...</th>\n",
              "      <td>...</td>\n",
              "    </tr>\n",
              "    <tr>\n",
              "      <th>568</th>\n",
              "      <td>guest</td>\n",
              "    </tr>\n",
              "    <tr>\n",
              "      <th>569</th>\n",
              "      <td>no_guest</td>\n",
              "    </tr>\n",
              "    <tr>\n",
              "      <th>570</th>\n",
              "      <td>guest</td>\n",
              "    </tr>\n",
              "    <tr>\n",
              "      <th>571</th>\n",
              "      <td>guest</td>\n",
              "    </tr>\n",
              "    <tr>\n",
              "      <th>572</th>\n",
              "      <td>no_guest</td>\n",
              "    </tr>\n",
              "  </tbody>\n",
              "</table>\n",
              "<p>572 rows × 1 columns</p>\n",
              "</div><br><label><b>dtype:</b> object</label>"
            ]
          },
          "metadata": {},
          "execution_count": 26
        }
      ]
    },
    {
      "cell_type": "code",
      "source": [
        "df['guest(s)'].value_counts()"
      ],
      "metadata": {
        "colab": {
          "base_uri": "https://localhost:8080/",
          "height": 178
        },
        "id": "AVEduNlimJPJ",
        "outputId": "0b8621c3-1226-4d7b-a263-91644e242558"
      },
      "execution_count": 27,
      "outputs": [
        {
          "output_type": "execute_result",
          "data": {
            "text/plain": [
              "guest(s)\n",
              "no_guest    383\n",
              "guest       189\n",
              "Name: count, dtype: int64"
            ],
            "text/html": [
              "<div>\n",
              "<style scoped>\n",
              "    .dataframe tbody tr th:only-of-type {\n",
              "        vertical-align: middle;\n",
              "    }\n",
              "\n",
              "    .dataframe tbody tr th {\n",
              "        vertical-align: top;\n",
              "    }\n",
              "\n",
              "    .dataframe thead th {\n",
              "        text-align: right;\n",
              "    }\n",
              "</style>\n",
              "<table border=\"1\" class=\"dataframe\">\n",
              "  <thead>\n",
              "    <tr style=\"text-align: right;\">\n",
              "      <th></th>\n",
              "      <th>count</th>\n",
              "    </tr>\n",
              "    <tr>\n",
              "      <th>guest(s)</th>\n",
              "      <th></th>\n",
              "    </tr>\n",
              "  </thead>\n",
              "  <tbody>\n",
              "    <tr>\n",
              "      <th>no_guest</th>\n",
              "      <td>383</td>\n",
              "    </tr>\n",
              "    <tr>\n",
              "      <th>guest</th>\n",
              "      <td>189</td>\n",
              "    </tr>\n",
              "  </tbody>\n",
              "</table>\n",
              "</div><br><label><b>dtype:</b> int64</label>"
            ]
          },
          "metadata": {},
          "execution_count": 27
        }
      ]
    },
    {
      "cell_type": "markdown",
      "source": [
        "### Clean up animation"
      ],
      "metadata": {
        "id": "WNJrzKcZUB4T"
      }
    },
    {
      "cell_type": "code",
      "source": [
        "df['animation'].value_counts()"
      ],
      "metadata": {
        "colab": {
          "base_uri": "https://localhost:8080/",
          "height": 899
        },
        "collapsed": true,
        "id": "arTp8X8HUEbj",
        "outputId": "6b1a463f-46a1-447f-e611-727741fcea95"
      },
      "execution_count": 28,
      "outputs": [
        {
          "output_type": "execute_result",
          "data": {
            "text/plain": [
              "animation\n",
              "Tom Yasumi                                                                          141\n",
              "Alan Smart                                                                          121\n",
              "Andrew Overtoom                                                                     116\n",
              "['Alan Smart', 'Tom Yasumi']                                                         46\n",
              "Sean Dempsey                                                                         28\n",
              "Michelle Bryan                                                                       26\n",
              "Bob Jaques                                                                           22\n",
              "Edgar Larrazábal                                                                     13\n",
              "Frank Weiss                                                                          13\n",
              "Fred Miller                                                                           9\n",
              "['Andrew Overtoom', 'Tom Yasumi']                                                     6\n",
              "Larry Leichliter                                                                      3\n",
              "['Michelle Bryan', 'Alan Smart']                                                      3\n",
              "['Andrew Overtoom', 'Alan Smart']                                                     2\n",
              "['Michelle Bryan', 'Alan Smart', 'Tom Yasumi']                                        2\n",
              "Andrew Overtoom (uncredited)                                                          1\n",
              "['Michelle Bryan', 'Andrew Overtoom']                                                 1\n",
              "['Michelle Bryan', 'Tom Yasumi']                                                      1\n",
              "['Alan Smart (also the scene timer for the live-action sequence)', 'Tom Yasumi']      1\n",
              "['Alan Smart', 'Andrew Overtoom', 'Tom Yasumi']                                       1\n",
              "['Andrew Overtoom', 'Alan Smart', 'Tom Yasumi']                                       1\n",
              "['Tom Yasumi', 'Andrew Overtoom (initially or uncredited)']                           1\n",
              "['Fred Miller', 'Tom Yasumi (uncredited)']                                            1\n",
              "['Larry Leichliter', 'Leonard Robinson']                                              1\n",
              "['Alex Conaway', 'Jordy Judge']                                                       1\n",
              "Name: count, dtype: int64"
            ],
            "text/html": [
              "<div>\n",
              "<style scoped>\n",
              "    .dataframe tbody tr th:only-of-type {\n",
              "        vertical-align: middle;\n",
              "    }\n",
              "\n",
              "    .dataframe tbody tr th {\n",
              "        vertical-align: top;\n",
              "    }\n",
              "\n",
              "    .dataframe thead th {\n",
              "        text-align: right;\n",
              "    }\n",
              "</style>\n",
              "<table border=\"1\" class=\"dataframe\">\n",
              "  <thead>\n",
              "    <tr style=\"text-align: right;\">\n",
              "      <th></th>\n",
              "      <th>count</th>\n",
              "    </tr>\n",
              "    <tr>\n",
              "      <th>animation</th>\n",
              "      <th></th>\n",
              "    </tr>\n",
              "  </thead>\n",
              "  <tbody>\n",
              "    <tr>\n",
              "      <th>Tom Yasumi</th>\n",
              "      <td>141</td>\n",
              "    </tr>\n",
              "    <tr>\n",
              "      <th>Alan Smart</th>\n",
              "      <td>121</td>\n",
              "    </tr>\n",
              "    <tr>\n",
              "      <th>Andrew Overtoom</th>\n",
              "      <td>116</td>\n",
              "    </tr>\n",
              "    <tr>\n",
              "      <th>['Alan Smart', 'Tom Yasumi']</th>\n",
              "      <td>46</td>\n",
              "    </tr>\n",
              "    <tr>\n",
              "      <th>Sean Dempsey</th>\n",
              "      <td>28</td>\n",
              "    </tr>\n",
              "    <tr>\n",
              "      <th>Michelle Bryan</th>\n",
              "      <td>26</td>\n",
              "    </tr>\n",
              "    <tr>\n",
              "      <th>Bob Jaques</th>\n",
              "      <td>22</td>\n",
              "    </tr>\n",
              "    <tr>\n",
              "      <th>Edgar Larrazábal</th>\n",
              "      <td>13</td>\n",
              "    </tr>\n",
              "    <tr>\n",
              "      <th>Frank Weiss</th>\n",
              "      <td>13</td>\n",
              "    </tr>\n",
              "    <tr>\n",
              "      <th>Fred Miller</th>\n",
              "      <td>9</td>\n",
              "    </tr>\n",
              "    <tr>\n",
              "      <th>['Andrew Overtoom', 'Tom Yasumi']</th>\n",
              "      <td>6</td>\n",
              "    </tr>\n",
              "    <tr>\n",
              "      <th>Larry Leichliter</th>\n",
              "      <td>3</td>\n",
              "    </tr>\n",
              "    <tr>\n",
              "      <th>['Michelle Bryan', 'Alan Smart']</th>\n",
              "      <td>3</td>\n",
              "    </tr>\n",
              "    <tr>\n",
              "      <th>['Andrew Overtoom', 'Alan Smart']</th>\n",
              "      <td>2</td>\n",
              "    </tr>\n",
              "    <tr>\n",
              "      <th>['Michelle Bryan', 'Alan Smart', 'Tom Yasumi']</th>\n",
              "      <td>2</td>\n",
              "    </tr>\n",
              "    <tr>\n",
              "      <th>Andrew Overtoom (uncredited)</th>\n",
              "      <td>1</td>\n",
              "    </tr>\n",
              "    <tr>\n",
              "      <th>['Michelle Bryan', 'Andrew Overtoom']</th>\n",
              "      <td>1</td>\n",
              "    </tr>\n",
              "    <tr>\n",
              "      <th>['Michelle Bryan', 'Tom Yasumi']</th>\n",
              "      <td>1</td>\n",
              "    </tr>\n",
              "    <tr>\n",
              "      <th>['Alan Smart (also the scene timer for the live-action sequence)', 'Tom Yasumi']</th>\n",
              "      <td>1</td>\n",
              "    </tr>\n",
              "    <tr>\n",
              "      <th>['Alan Smart', 'Andrew Overtoom', 'Tom Yasumi']</th>\n",
              "      <td>1</td>\n",
              "    </tr>\n",
              "    <tr>\n",
              "      <th>['Andrew Overtoom', 'Alan Smart', 'Tom Yasumi']</th>\n",
              "      <td>1</td>\n",
              "    </tr>\n",
              "    <tr>\n",
              "      <th>['Tom Yasumi', 'Andrew Overtoom (initially or uncredited)']</th>\n",
              "      <td>1</td>\n",
              "    </tr>\n",
              "    <tr>\n",
              "      <th>['Fred Miller', 'Tom Yasumi (uncredited)']</th>\n",
              "      <td>1</td>\n",
              "    </tr>\n",
              "    <tr>\n",
              "      <th>['Larry Leichliter', 'Leonard Robinson']</th>\n",
              "      <td>1</td>\n",
              "    </tr>\n",
              "    <tr>\n",
              "      <th>['Alex Conaway', 'Jordy Judge']</th>\n",
              "      <td>1</td>\n",
              "    </tr>\n",
              "  </tbody>\n",
              "</table>\n",
              "</div><br><label><b>dtype:</b> int64</label>"
            ]
          },
          "metadata": {},
          "execution_count": 28
        }
      ]
    },
    {
      "cell_type": "code",
      "source": [
        "# Keep only the first animator in the case of lists\n",
        "df['animation'] = df['animation'].apply(lambda x: x[0] if isinstance(x, list) else x)\n",
        "\n",
        "# Check the value counts of the updated animation data\n",
        "print(df['animation'].value_counts())"
      ],
      "metadata": {
        "colab": {
          "base_uri": "https://localhost:8080/",
          "height": 0
        },
        "id": "snexILzgU0X1",
        "outputId": "4d698a3c-f3cb-4bf4-f610-c2501532392b"
      },
      "execution_count": 29,
      "outputs": [
        {
          "output_type": "stream",
          "name": "stdout",
          "text": [
            "animation\n",
            "Tom Yasumi                                                                          141\n",
            "Alan Smart                                                                          121\n",
            "Andrew Overtoom                                                                     116\n",
            "['Alan Smart', 'Tom Yasumi']                                                         46\n",
            "Sean Dempsey                                                                         28\n",
            "Michelle Bryan                                                                       26\n",
            "Bob Jaques                                                                           22\n",
            "Edgar Larrazábal                                                                     13\n",
            "Frank Weiss                                                                          13\n",
            "Fred Miller                                                                           9\n",
            "['Andrew Overtoom', 'Tom Yasumi']                                                     6\n",
            "Larry Leichliter                                                                      3\n",
            "['Michelle Bryan', 'Alan Smart']                                                      3\n",
            "['Andrew Overtoom', 'Alan Smart']                                                     2\n",
            "['Michelle Bryan', 'Alan Smart', 'Tom Yasumi']                                        2\n",
            "Andrew Overtoom (uncredited)                                                          1\n",
            "['Michelle Bryan', 'Andrew Overtoom']                                                 1\n",
            "['Michelle Bryan', 'Tom Yasumi']                                                      1\n",
            "['Alan Smart (also the scene timer for the live-action sequence)', 'Tom Yasumi']      1\n",
            "['Alan Smart', 'Andrew Overtoom', 'Tom Yasumi']                                       1\n",
            "['Andrew Overtoom', 'Alan Smart', 'Tom Yasumi']                                       1\n",
            "['Tom Yasumi', 'Andrew Overtoom (initially or uncredited)']                           1\n",
            "['Fred Miller', 'Tom Yasumi (uncredited)']                                            1\n",
            "['Larry Leichliter', 'Leonard Robinson']                                              1\n",
            "['Alex Conaway', 'Jordy Judge']                                                       1\n",
            "Name: count, dtype: int64\n"
          ]
        }
      ]
    },
    {
      "cell_type": "markdown",
      "source": [
        "### Final Check"
      ],
      "metadata": {
        "id": "S4f1adrIq9it"
      }
    },
    {
      "cell_type": "markdown",
      "source": [
        "(Ignore animation due to the fact we only looked at the top animators)\n",
        "\n",
        "All missing values have been fixed"
      ],
      "metadata": {
        "id": "jYbAKKUAspGn"
      }
    },
    {
      "cell_type": "code",
      "source": [
        "print(df['viewership'].isna().sum())\n",
        "print(df['airdate'].isna().sum())\n",
        "print(df['guest(s)'].isna().sum())\n",
        "print(df['animation'].isna().sum())\n",
        "print(df['sister_episode(s)'].isna().sum())\n",
        "print(df['running_time'].isna().sum())"
      ],
      "metadata": {
        "colab": {
          "base_uri": "https://localhost:8080/",
          "height": 0
        },
        "id": "8ZuI4BUQq_aO",
        "outputId": "ddc6fa5c-750e-4e6a-ffae-37113b7ec767"
      },
      "execution_count": 30,
      "outputs": [
        {
          "output_type": "stream",
          "name": "stdout",
          "text": [
            "0\n",
            "0\n",
            "0\n",
            "11\n",
            "0\n",
            "0\n"
          ]
        }
      ]
    },
    {
      "cell_type": "markdown",
      "source": [
        "## Univariate Analysis"
      ],
      "metadata": {
        "id": "m0tP8yaNqqyb"
      }
    },
    {
      "cell_type": "code",
      "source": [
        "plt.figure(figsize=(8, 6))\n",
        "sns.histplot(df['viewership'], bins=25, kde=True)\n",
        "plt.title('Distribution of Views')\n",
        "plt.xlabel('Views')\n",
        "plt.ylabel('Frequency')\n",
        "plt.show()"
      ],
      "metadata": {
        "colab": {
          "base_uri": "https://localhost:8080/",
          "height": 564
        },
        "id": "zijy1MHXqur1",
        "outputId": "f979e8fb-f089-48e2-bc1f-1e600ba3bcab"
      },
      "execution_count": 31,
      "outputs": [
        {
          "output_type": "display_data",
          "data": {
            "text/plain": [
              "<Figure size 800x600 with 1 Axes>"
            ],
            "image/png": "[encoded data removed]"
          },
          "metadata": {}
        }
      ]
    },
    {
      "cell_type": "markdown",
      "source": [
        "The Distribution of Views graph above shows us that the majority of episodes have a low amount of viewership. The frequency gradually declines as the viewership gets higher. This graph indicates a slight right skew due to the lower amounts of episodes at a high viewership."
      ],
      "metadata": {
        "id": "qwiPwOCkU6pE"
      }
    },
    {
      "cell_type": "code",
      "source": [
        "# Count the number of episodes per season\n",
        "season_counts = df['season_№'].value_counts().sort_index()"
      ],
      "metadata": {
        "id": "21PDmijXFC7M"
      },
      "execution_count": 32,
      "outputs": []
    },
    {
      "cell_type": "code",
      "source": [
        "# Plotting the bar plot for episodes per season\n",
        "plt.figure(figsize=(10, 6))\n",
        "season_counts.plot(kind='bar', color='lightcoral')\n",
        "plt.title(\"Number of Episodes per Season\")\n",
        "plt.xlabel(\"Season Number\")\n",
        "plt.ylabel(\"Number of Episodes\")\n",
        "plt.xticks(rotation=0)  # Rotate x-axis labels if needed\n",
        "plt.show()"
      ],
      "metadata": {
        "colab": {
          "base_uri": "https://localhost:8080/",
          "height": 564
        },
        "id": "iRWf1ZClFP_W",
        "outputId": "3fcc3fc4-b09f-4fd8-c62f-51d5a6aee676"
      },
      "execution_count": 33,
      "outputs": [
        {
          "output_type": "display_data",
          "data": {
            "text/plain": [
              "<Figure size 1000x600 with 1 Axes>"
            ],
            "image/png": "[encoded data removed]"
          },
          "metadata": {}
        }
      ]
    },
    {
      "cell_type": "markdown",
      "source": [
        "This graph highlights the variabliity in the number of episodes per seaason. Seasons 7, 11, and 13 have the highest episode counts, while season 10  and 14 have significantly fewer episodes. This could indicate changes in viewership or production strategy over time."
      ],
      "metadata": {
        "id": "qnrz1P86WES1"
      }
    },
    {
      "cell_type": "code",
      "source": [
        "# episodes with guests and without guests\n",
        "plt.figure(figsize=(8, 6))\n",
        "sns.countplot(x='guest(s)', data=df, order=['no_guest', 'guest'])\n",
        "plt.title('Episodes with and without Guest Appearances')\n",
        "plt.xlabel('Guest Appearance')\n",
        "plt.ylabel('Number of Episodes')\n",
        "plt.show()"
      ],
      "metadata": {
        "colab": {
          "base_uri": "https://localhost:8080/",
          "height": 564
        },
        "id": "nrT2ExOpe4Ak",
        "outputId": "18121f5c-ea93-4a59-b736-54b6f7cbe6e3"
      },
      "execution_count": 34,
      "outputs": [
        {
          "output_type": "display_data",
          "data": {
            "text/plain": [
              "<Figure size 800x600 with 1 Axes>"
            ],
            "image/png": "[encoded data removed]"
          },
          "metadata": {}
        }
      ]
    },
    {
      "cell_type": "markdown",
      "source": [
        "This graph compares episodes with and without guest appearances. Episodes containing no guests are considerably more common. This suggest that guest appearances are relatively rare in the series. (This could provide the foundation for a future analysis on whether guest appearances impact viewership)"
      ],
      "metadata": {
        "id": "MVINwSULWxti"
      }
    },
    {
      "cell_type": "markdown",
      "source": [
        "## Bivariate Data Analysis"
      ],
      "metadata": {
        "id": "FS4RulXPpnTg"
      }
    },
    {
      "cell_type": "code",
      "source": [
        "# Viewership over time\n",
        "plt.figure(figsize=(10, 6))\n",
        "sns.lineplot(x='year', y='viewership', data=df)\n",
        "plt.title('Views Over Time')\n",
        "plt.xlabel('Year')\n",
        "plt.ylabel('Views')\n",
        "plt.show()"
      ],
      "metadata": {
        "colab": {
          "base_uri": "https://localhost:8080/",
          "height": 564
        },
        "id": "V10J2dbeDWf6",
        "outputId": "ff07f5f4-1e86-44a1-98f5-a0019788cab7"
      },
      "execution_count": 36,
      "outputs": [
        {
          "output_type": "display_data",
          "data": {
            "text/plain": [
              "<Figure size 1000x600 with 1 Axes>"
            ],
            "image/png": "[encoded data removed]"
          },
          "metadata": {}
        }
      ]
    },
    {
      "cell_type": "markdown",
      "source": [
        "In this depressing graph we see the viewership hit a spike in the beginning and then decline ever since. The highest viewership spike was around the times of 2003-2004. The lowest viewership number was more recent in the years 2020-present. The show has been on a steady decline since the early 2000's indicating a new generation of kids may not watch this show."
      ],
      "metadata": {
        "id": "k-rS5wNOcXUr"
      }
    },
    {
      "cell_type": "code",
      "source": [
        "# Viewership by each season\n",
        "plt.figure(figsize=(10,6))\n",
        "sns.boxplot(x='season_№', y='viewership', data=df)\n",
        "plt.title('Viewership Distribution by Season')\n",
        "plt.xlabel('Season')\n",
        "plt.ylabel('Viewers (millions)')\n",
        "plt.show()"
      ],
      "metadata": {
        "colab": {
          "base_uri": "https://localhost:8080/",
          "height": 564
        },
        "id": "odF--mY-Ebs-",
        "outputId": "f3592e20-5456-40a6-a7b5-1659f109da1f"
      },
      "execution_count": 37,
      "outputs": [
        {
          "output_type": "display_data",
          "data": {
            "text/plain": [
              "<Figure size 1000x600 with 1 Axes>"
            ],
            "image/png": "[encoded data removed]"
          },
          "metadata": {}
        }
      ]
    },
    {
      "cell_type": "markdown",
      "source": [
        "This graph looks at the viewership distribution by season, presenting outliers and larger spread of data. Season 4 has the largest spread of data spanning from around 2 million to 7 million with outliers above 8 million viewers. Season 7 appears to have the largest mean viewership with few outliers. Season 10-14 have a steady decline of viewership indicating the lack of new viewers."
      ],
      "metadata": {
        "id": "h4OJ-XeOc8We"
      }
    },
    {
      "cell_type": "code",
      "source": [
        "# Top ten episodes based on viewership\n",
        "top_10 = df.nlargest(10, 'viewership')\n",
        "plt.figure(figsize=(10,6))\n",
        "sns.barplot(x='viewership', y='title',data=top_10)\n",
        "plt.title('Top 10 Episodes by Viewership')\n",
        "plt.xlabel('Viewers')\n",
        "plt.ylabel('Episode Title')\n",
        "plt.show()"
      ],
      "metadata": {
        "colab": {
          "base_uri": "https://localhost:8080/",
          "height": 564
        },
        "id": "g0s2Yvt6p9Yl",
        "outputId": "cfab67ce-61f3-4313-84a6-0e07cfb7ae69"
      },
      "execution_count": 35,
      "outputs": [
        {
          "output_type": "display_data",
          "data": {
            "text/plain": [
              "<Figure size 1000x600 with 1 Axes>"
            ],
            "image/png": "[encoded data removed]"
          },
          "metadata": {}
        }
      ]
    },
    {
      "cell_type": "markdown",
      "source": [
        "This graph shows us the Top 10 Episodes by viewership. The highest viewership episode at 8 million plus was 'Dunces and Dragons' while the lowerst viewership episode at roughly 6 million was 'The Monster Who Came to Bikini Bottom'. No episode in this dataset was below 6 million viewers."
      ],
      "metadata": {
        "id": "y954S2vyZdPS"
      }
    },
    {
      "cell_type": "code",
      "source": [
        "# Viewership with guest appearance\n",
        "plt.figure(figsize=(10,6))\n",
        "sns.scatterplot(x='year', y='viewership', hue='guest(s)', data=df)\n",
        "plt.title('Airdate vs. Viewership with Guest Appearance Highlighted')\n",
        "plt.xticks(rotation=45)\n",
        "plt.show()"
      ],
      "metadata": {
        "colab": {
          "base_uri": "https://localhost:8080/",
          "height": 585
        },
        "id": "nWkILz-gd9h2",
        "outputId": "c70ec69e-654e-4bfa-b68e-7395c69fb738"
      },
      "execution_count": 38,
      "outputs": [
        {
          "output_type": "display_data",
          "data": {
            "text/plain": [
              "<Figure size 1000x600 with 1 Axes>"
            ],
            "image/png": "[encoded data removed]"
          },
          "metadata": {}
        }
      ]
    },
    {
      "cell_type": "markdown",
      "source": [
        "In this graph we compared the year with viewership, highliting episodes where guests appeared. We can conclude from the graph that guest appearance did not seem to affect the data as the points hardly differ. The span of years from 2005-2010 seem to have highlighted the most guest apearances."
      ],
      "metadata": {
        "id": "XQeC0_-Rdy4R"
      }
    },
    {
      "cell_type": "code",
      "source": [
        "# Viewership by running time\n",
        "# Create bins for running time categories\n",
        "bins = [0, 4, 8, 12, 16, 20, float('inf')]\n",
        "labels = ['0-4', '4-8', '8-12', '12-16', '16-20', '20+']\n",
        "df['running_time_category'] = pd.cut(df['running_time_minutes'], bins=bins, labels=labels, right=False)\n",
        "\n",
        "# Now you can plot the viewership by running time category\n",
        "plt.figure(figsize=(10, 6))\n",
        "sns.boxplot(x='running_time_category', y='viewership', data=df)\n",
        "plt.title('Viewership by Running Time')\n",
        "plt.xlabel('Running Time (Minutes)')\n",
        "plt.ylabel('Viewership (millions)')\n",
        "plt.show()"
      ],
      "metadata": {
        "colab": {
          "base_uri": "https://localhost:8080/",
          "height": 564
        },
        "id": "s-WoBAU-xow5",
        "outputId": "c4b35965-c798-4551-84f2-aa3a21877972"
      },
      "execution_count": 39,
      "outputs": [
        {
          "output_type": "display_data",
          "data": {
            "text/plain": [
              "<Figure size 1000x600 with 1 Axes>"
            ],
            "image/png": "[encoded data removed]"
          },
          "metadata": {}
        }
      ]
    },
    {
      "cell_type": "markdown",
      "source": [
        "This graph examines viewership by the running time of the episodes. This graph was split into 6 different bins counting by 4's. It appears that episodes with 20 minutes plus have the highest mean viewership and the biggest spread of data. This likely indicates that there are not many values in this column. The value 16-20 has the smallest amount of data and has roughly 1.5 million viewers. 12-16 minutes has the lowest mean value for viewership."
      ],
      "metadata": {
        "id": "W8h6FS5Zef--"
      }
    },
    {
      "cell_type": "code",
      "source": [
        "# Define the top animators\n",
        "top_animators = [\n",
        "    'Tom Yasumi',\n",
        "    'Alan Smart',\n",
        "    'Andrew Overtoom',\n",
        "    \"['Alan Smart', 'Tom Yasumi']\",\n",
        "    'Sean Dempsey',\n",
        "    'Michelle Bryan',\n",
        "    'Bob Jaques',\n",
        "    'Edgar Larrazábal',\n",
        "    'Frank Weiss',\n",
        "    'Fred Miller'\n",
        "]\n",
        "\n",
        "# Filter the DataFrame for top animators\n",
        "filtered_df = df[df['animation'].isin(top_animators)]\n",
        "\n",
        "# Group by animation and calculate the mean views\n",
        "avg_views_by_top_animation = filtered_df.groupby('animation')['viewership'].mean().reset_index()\n",
        "\n",
        "# Sort the values for better visualization\n",
        "avg_views_by_top_animation = avg_views_by_top_animation.sort_values(by='viewership', ascending=False)\n",
        "\n",
        "# Plotting the results\n",
        "plt.figure(figsize=(12, 6))\n",
        "sns.barplot(x='viewership', y='animation', data=avg_views_by_top_animation)\n",
        "plt.title('Average U.S. Viewership by Top Animators')\n",
        "plt.xlabel('Average Viewership (in millions)')\n",
        "plt.ylabel('Animator')\n",
        "plt.show()"
      ],
      "metadata": {
        "colab": {
          "base_uri": "https://localhost:8080/",
          "height": 564
        },
        "id": "FKD3vAkJTLSh",
        "outputId": "c0501d33-426e-419d-eeca-b3db55511c77"
      },
      "execution_count": 40,
      "outputs": [
        {
          "output_type": "display_data",
          "data": {
            "text/plain": [
              "<Figure size 1200x600 with 1 Axes>"
            ],
            "image/png": "[encoded data removed]"
          },
          "metadata": {}
        }
      ]
    },
    {
      "cell_type": "markdown",
      "source": [
        "This graph wanted to analyze if animators contributed to viewership statistics. This graph shows that Frank Weiss has the highest average viewership among the animators while Michelle Bryan has the lowest at <0.5."
      ],
      "metadata": {
        "id": "ztXm48pbfg4U"
      }
    },
    {
      "cell_type": "code",
      "source": [
        "# Create a new column to indicate presence of sister episodes\n",
        "df['Has Sister Episode'] = df['sister_episode(s)'].apply(lambda x: 'No' if x == \"no_guest\" else 'Yes')"
      ],
      "metadata": {
        "id": "yOXwXkpcGukG"
      },
      "execution_count": 46,
      "outputs": []
    },
    {
      "cell_type": "code",
      "source": [
        "# Calculate mean viewership for each group\n",
        "viewership_summary = df.groupby('Has Sister Episode')['viewership'].mean().reset_index()"
      ],
      "metadata": {
        "id": "OrI4Y9uDIAXD"
      },
      "execution_count": 48,
      "outputs": []
    },
    {
      "cell_type": "code",
      "source": [
        "import matplotlib.pyplot as plt\n",
        "import seaborn as sns\n",
        "\n",
        "plt.figure(figsize=(8, 6))\n",
        "\n",
        "# Bar plot\n",
        "sns.barplot(data=viewership_summary, x='Has Sister Episode', y='viewership', palette='cool')\n",
        "\n",
        "# Labeling\n",
        "plt.title(\"Average U.S. Viewership for Episodes With and Without Sister Episodes\")\n",
        "plt.xlabel(\"Has Sister Episode\")\n",
        "plt.ylabel(\"Average U.S. Viewers (millions)\")\n",
        "plt.show()"
      ],
      "metadata": {
        "colab": {
          "base_uri": "https://localhost:8080/",
          "height": 651
        },
        "id": "90kJ0v0bIFbj",
        "outputId": "87e41fd4-4efc-4db9-99f6-ee29b9347abc"
      },
      "execution_count": 50,
      "outputs": [
        {
          "output_type": "stream",
          "name": "stderr",
          "text": [
            "<ipython-input-50-02fa272b4c77>:7: FutureWarning: \n",
            "\n",
            "Passing `palette` without assigning `hue` is deprecated and will be removed in v0.14.0. Assign the `x` variable to `hue` and set `legend=False` for the same effect.\n",
            "\n",
            "  sns.barplot(data=viewership_summary, x='Has Sister Episode', y='viewership', palette='cool')\n"
          ]
        },
        {
          "output_type": "display_data",
          "data": {
            "text/plain": [
              "<Figure size 800x600 with 1 Axes>"
            ],
            "image/png": "[encoded data removed]"
          },
          "metadata": {}
        }
      ]
    },
    {
      "cell_type": "markdown",
      "source": [
        "This graph compares the average U.S. viewership between episodes that have a sister episode and those that don't. It appears that having a sister episode did not have an affect in gaining viewership as the average values for the 'yes' column are lower than the 'no' column. The average viewership without a sister episode is around 4 million while the column with a sister episode is around 2.5 million."
      ],
      "metadata": {
        "id": "EFg0Du14GcQZ"
      }
    },
    {
      "cell_type": "markdown",
      "source": [
        "## Data Dictionary"
      ],
      "metadata": {
        "id": "WT0LjO6V451S"
      }
    },
    {
      "cell_type": "markdown",
      "source": [
        "**airdate**\n",
        "\n",
        "The original air date of the episode\tDate\n",
        "\n",
        "**animation**\n",
        "\n",
        "animator used\tString\n",
        "\n",
        "**animation_supervisor**\n",
        "\n",
        "Supervisor in charge of animation\tString\n",
        "\n",
        "**copyright_year**\n",
        "\n",
        "Year the episode was copyrighted\tInteger\n",
        "\n",
        "**creative**\n",
        "\n",
        "Creative director or lead creative for the episode\tString\n",
        "\n",
        "**episode_№**\n",
        "\n",
        "Episode number within the season\tInteger\n",
        "\n",
        "**guest(s)**\n",
        "\n",
        "Guest appearances featured in the episode\tString\n",
        "\n",
        "**line_producer**\n",
        "\n",
        "Line producer responsible for production\tString\n",
        "\n",
        "**main**\n",
        "\n",
        "Main storyline or characters involved\tString\n",
        "\n",
        "**next**\n",
        "\n",
        "Title of the following episode\tString\n",
        "\n",
        "**previous**\n",
        "\n",
        "Title of the previous episode\tString\n",
        "\n",
        "**production_code**\n",
        "\n",
        "Code assigned for production identification\tString\n",
        "\n",
        "**running_time**\n",
        "\n",
        "Total duration of the episode in seconds\tInteger\n",
        "\n",
        "**season_№**\n",
        "\n",
        "Season number in which the episode was released\tInteger\n",
        "\n",
        "**sister_episode(s)**\n",
        "\n",
        "Episodes aired as sister episodes\tString\n",
        "\n",
        "**storyboard**\n",
        "\n",
        "Person(s) responsible for storyboarding\tString\n",
        "\n",
        "**storyboard_artist(s)**\n",
        "\n",
        "Artists involved in creating the storyboard\tString\n",
        "\n",
        "**supervising**\n",
        "\n",
        "Name of supervising director or producer\tString\n",
        "\n",
        "**supervising_producer(s)**\n",
        "\n",
        "Producer(s) overseeing production\tString\n",
        "\n",
        "**technical**\n",
        "\n",
        "Technical director or team responsible\tString\n",
        "\n",
        "**u.s.premiere_time(et)**\n",
        "\n",
        "Premiere time in Eastern Time (U.S.)\tTime\n",
        "\n",
        "**u.s.viewers(millions)**\n",
        "\n",
        "Viewership in the U.S. (millions)\tFloat\n",
        "\n",
        "**writer(s)**\n",
        "\n",
        "Writer(s) credited for the episode\tString\n",
        "\n",
        "**characters**\n",
        "\n",
        "List of characters featured\tString\n",
        "\n",
        "**title**\n",
        "\n",
        "Episode title\tString\n"
      ],
      "metadata": {
        "id": "Iitc6bWzf6Ly"
      }
    },
    {
      "cell_type": "markdown",
      "source": [
        "## Conclusion"
      ],
      "metadata": {
        "id": "zivPsmt6imDi"
      }
    },
    {
      "cell_type": "markdown",
      "source": [
        "The analysis of the SpongeBob SquarePants episodes reveals notable trends in viewership patterns and characteristics of the show. The distribution of views indicates that most episodes attract a relatively low audience, with a gradual decline in frequency as viewership increases. This suggests a slight right skew. The number of episodes per season varies significantly, with seasons 7, 11, and 13 featuring the most episodes, while seasons 10 and 14 have fewer, hinting at shifts in production strategies or viewer engagement. Episodes without guest appearances are far more common, which poses questions for further exploration into the impact of guests on viewership. The top-performing episode, \"Dunces and Dragons,\" demonstrates that even the most popular episodes don’t exceed 8 million viewers. A notable decline in viewership since the early 2000s points to a potential decrease in relevance for newer generations. The distribution of viewership by season highlights a significant spread of data, with season 4 showing the widest range. The comparison of average viewership between episodes that have a sister episode and those that don't indicates that having a sister episode did not positively affect viewership. The average values for the 'Yes' column are lower than those for the 'No' column. The average viewership without a sister episode is around 4 million, while the average for episodes with a sister episode is approximately 2.5 million. This suggests that, contrary to expectations, sister episodes may not significantly impact viewership numbers. Additionally, the analysis of running time suggests that longer episodes tend to attract higher viewership. Finally, the animator analysis reveals that Frank Weiss has the highest average viewership, suggesting that the choice of animator may have a subtle influence on audience engagement. Overall, these insights reflect the complexities of viewership dynamics and help pose new questions for future analyses of audience preferences and trends in animated television."
      ],
      "metadata": {
        "id": "y-mOTB8JixP8"
      }
    },
    {
      "cell_type": "markdown",
      "source": [
        "## Questions For Further Study"
      ],
      "metadata": {
        "id": "VM2TgFrTLX95"
      }
    },
    {
      "cell_type": "markdown",
      "source": [
        "How do different animators and their styles impact the overall viewer engagement?\n",
        "\n",
        "\n",
        "What other external factors might influence the viewership of specific episodes (e.g., marketing, competition from other shows)?\n",
        "\n",
        "If demographic data were available, how might different audience segments (age, gender, etc.) influence viewership trends for various episodes?\n",
        "\n",
        "How do SpongeBob’s viewership trends compare to those of other popular animated shows from the same era?"
      ],
      "metadata": {
        "id": "YKYOw3kdLbvJ"
      }
    }
  ]
}